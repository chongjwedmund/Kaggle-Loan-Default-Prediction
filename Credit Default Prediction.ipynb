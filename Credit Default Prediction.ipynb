{
 "cells": [
  {
   "cell_type": "code",
   "execution_count": 1,
   "metadata": {
    "scrolled": false
   },
   "outputs": [],
   "source": [
    "# pip install missingno"
   ]
  },
  {
   "cell_type": "code",
   "execution_count": 2,
   "metadata": {},
   "outputs": [],
   "source": [
    "import pandas as pd\n",
    "import numpy as np\n",
    "import missingno as msno\n",
    "import matplotlib.pyplot as plt\n",
    "import seaborn as sns\n",
    "import pickle\n",
    "import statistics as stat\n",
    "\n",
    "from sklearn.experimental import enable_iterative_imputer\n",
    "from sklearn.impute import IterativeImputer\n",
    "from sklearn.model_selection import train_test_split\n",
    "from sklearn import metrics\n",
    "from sklearn.metrics import accuracy_score, f1_score, precision_score, recall_score, confusion_matrix, roc_auc_score, roc_curve, classification_report, precision_recall_curve\n",
    "from sklearn.model_selection import train_test_split, cross_val_score, StratifiedKFold, GridSearchCV, RandomizedSearchCV\n",
    "from sklearn.linear_model import LogisticRegression\n",
    "from sklearn.tree import DecisionTreeClassifier\n",
    "from sklearn.ensemble import RandomForestClassifier\n",
    "from sklearn.dummy import DummyClassifier\n",
    "from sklearn.feature_selection import SelectFromModel\n",
    "from sklearn.model_selection import StratifiedKFold\n",
    "from sklearn.model_selection import cross_val_score\n",
    "from sklearn.tree import plot_tree\n",
    "from sklearn.datasets import make_classification\n",
    "\n",
    "import joblib\n",
    "import xgboost as xgb\n",
    "from xgboost import XGBClassifier\n",
    "\n",
    "from lightgbm import LGBMClassifier\n",
    "from catboost import CatBoostClassifier\n",
    "from collections import Counter\n",
    "from matplotlib import pyplot\n",
    "from numpy import where\n",
    "from imblearn.over_sampling import ADASYN"
   ]
  },
  {
   "cell_type": "code",
   "execution_count": 3,
   "metadata": {},
   "outputs": [],
   "source": [
    "pd.options.display.max_rows = 4000"
   ]
  },
  {
   "cell_type": "markdown",
   "metadata": {},
   "source": [
    "### Importing the data"
   ]
  },
  {
   "cell_type": "code",
   "execution_count": 4,
   "metadata": {},
   "outputs": [],
   "source": [
    "train = pd.read_csv('train.csv')\n",
    "test = pd.read_csv('test.csv')"
   ]
  },
  {
   "cell_type": "code",
   "execution_count": 5,
   "metadata": {},
   "outputs": [
    {
     "data": {
      "text/plain": [
       "(7500, 18)"
      ]
     },
     "execution_count": 5,
     "metadata": {},
     "output_type": "execute_result"
    }
   ],
   "source": [
    "train.shape"
   ]
  },
  {
   "cell_type": "code",
   "execution_count": 6,
   "metadata": {},
   "outputs": [
    {
     "data": {
      "text/plain": [
       "(2500, 17)"
      ]
     },
     "execution_count": 6,
     "metadata": {},
     "output_type": "execute_result"
    }
   ],
   "source": [
    "test.shape"
   ]
  },
  {
   "cell_type": "code",
   "execution_count": 7,
   "metadata": {},
   "outputs": [
    {
     "data": {
      "text/plain": [
       "Index(['Id', 'Home Ownership', 'Annual Income', 'Years in current job',\n",
       "       'Tax Liens', 'Number of Open Accounts', 'Years of Credit History',\n",
       "       'Maximum Open Credit', 'Number of Credit Problems',\n",
       "       'Months since last delinquent', 'Bankruptcies', 'Purpose', 'Term',\n",
       "       'Current Loan Amount', 'Current Credit Balance', 'Monthly Debt',\n",
       "       'Credit Score', 'Credit Default'],\n",
       "      dtype='object')"
      ]
     },
     "execution_count": 7,
     "metadata": {},
     "output_type": "execute_result"
    }
   ],
   "source": [
    "train.columns"
   ]
  },
  {
   "cell_type": "code",
   "execution_count": 8,
   "metadata": {},
   "outputs": [
    {
     "data": {
      "text/plain": [
       "Index(['Id', 'Home Ownership', 'Annual Income', 'Years in current job',\n",
       "       'Tax Liens', 'Number of Open Accounts', 'Years of Credit History',\n",
       "       'Maximum Open Credit', 'Number of Credit Problems',\n",
       "       'Months since last delinquent', 'Bankruptcies', 'Purpose', 'Term',\n",
       "       'Current Loan Amount', 'Current Credit Balance', 'Monthly Debt',\n",
       "       'Credit Score'],\n",
       "      dtype='object')"
      ]
     },
     "execution_count": 8,
     "metadata": {},
     "output_type": "execute_result"
    }
   ],
   "source": [
    "test.columns"
   ]
  },
  {
   "cell_type": "code",
   "execution_count": 9,
   "metadata": {},
   "outputs": [],
   "source": [
    "data = pd.concat([train,test])"
   ]
  },
  {
   "cell_type": "markdown",
   "metadata": {},
   "source": [
    "### Data Overview"
   ]
  },
  {
   "cell_type": "code",
   "execution_count": 10,
   "metadata": {
    "scrolled": false
   },
   "outputs": [
    {
     "data": {
      "text/html": [
       "<div>\n",
       "<style scoped>\n",
       "    .dataframe tbody tr th:only-of-type {\n",
       "        vertical-align: middle;\n",
       "    }\n",
       "\n",
       "    .dataframe tbody tr th {\n",
       "        vertical-align: top;\n",
       "    }\n",
       "\n",
       "    .dataframe thead th {\n",
       "        text-align: right;\n",
       "    }\n",
       "</style>\n",
       "<table border=\"1\" class=\"dataframe\">\n",
       "  <thead>\n",
       "    <tr style=\"text-align: right;\">\n",
       "      <th></th>\n",
       "      <th>Id</th>\n",
       "      <th>Home Ownership</th>\n",
       "      <th>Annual Income</th>\n",
       "      <th>Years in current job</th>\n",
       "      <th>Tax Liens</th>\n",
       "      <th>Number of Open Accounts</th>\n",
       "      <th>Years of Credit History</th>\n",
       "      <th>Maximum Open Credit</th>\n",
       "      <th>Number of Credit Problems</th>\n",
       "      <th>Months since last delinquent</th>\n",
       "      <th>Bankruptcies</th>\n",
       "      <th>Purpose</th>\n",
       "      <th>Term</th>\n",
       "      <th>Current Loan Amount</th>\n",
       "      <th>Current Credit Balance</th>\n",
       "      <th>Monthly Debt</th>\n",
       "      <th>Credit Score</th>\n",
       "      <th>Credit Default</th>\n",
       "    </tr>\n",
       "  </thead>\n",
       "  <tbody>\n",
       "    <tr>\n",
       "      <th>0</th>\n",
       "      <td>0</td>\n",
       "      <td>Own Home</td>\n",
       "      <td>482087.0</td>\n",
       "      <td>NaN</td>\n",
       "      <td>0.0</td>\n",
       "      <td>11.0</td>\n",
       "      <td>26.3</td>\n",
       "      <td>685960.0</td>\n",
       "      <td>1.0</td>\n",
       "      <td>NaN</td>\n",
       "      <td>1.0</td>\n",
       "      <td>debt consolidation</td>\n",
       "      <td>Short Term</td>\n",
       "      <td>99999999.0</td>\n",
       "      <td>47386.0</td>\n",
       "      <td>7914.0</td>\n",
       "      <td>749.0</td>\n",
       "      <td>0.0</td>\n",
       "    </tr>\n",
       "    <tr>\n",
       "      <th>1</th>\n",
       "      <td>1</td>\n",
       "      <td>Own Home</td>\n",
       "      <td>1025487.0</td>\n",
       "      <td>10+ years</td>\n",
       "      <td>0.0</td>\n",
       "      <td>15.0</td>\n",
       "      <td>15.3</td>\n",
       "      <td>1181730.0</td>\n",
       "      <td>0.0</td>\n",
       "      <td>NaN</td>\n",
       "      <td>0.0</td>\n",
       "      <td>debt consolidation</td>\n",
       "      <td>Long Term</td>\n",
       "      <td>264968.0</td>\n",
       "      <td>394972.0</td>\n",
       "      <td>18373.0</td>\n",
       "      <td>737.0</td>\n",
       "      <td>1.0</td>\n",
       "    </tr>\n",
       "    <tr>\n",
       "      <th>2</th>\n",
       "      <td>2</td>\n",
       "      <td>Home Mortgage</td>\n",
       "      <td>751412.0</td>\n",
       "      <td>8 years</td>\n",
       "      <td>0.0</td>\n",
       "      <td>11.0</td>\n",
       "      <td>35.0</td>\n",
       "      <td>1182434.0</td>\n",
       "      <td>0.0</td>\n",
       "      <td>NaN</td>\n",
       "      <td>0.0</td>\n",
       "      <td>debt consolidation</td>\n",
       "      <td>Short Term</td>\n",
       "      <td>99999999.0</td>\n",
       "      <td>308389.0</td>\n",
       "      <td>13651.0</td>\n",
       "      <td>742.0</td>\n",
       "      <td>0.0</td>\n",
       "    </tr>\n",
       "    <tr>\n",
       "      <th>3</th>\n",
       "      <td>3</td>\n",
       "      <td>Own Home</td>\n",
       "      <td>805068.0</td>\n",
       "      <td>6 years</td>\n",
       "      <td>0.0</td>\n",
       "      <td>8.0</td>\n",
       "      <td>22.5</td>\n",
       "      <td>147400.0</td>\n",
       "      <td>1.0</td>\n",
       "      <td>NaN</td>\n",
       "      <td>1.0</td>\n",
       "      <td>debt consolidation</td>\n",
       "      <td>Short Term</td>\n",
       "      <td>121396.0</td>\n",
       "      <td>95855.0</td>\n",
       "      <td>11338.0</td>\n",
       "      <td>694.0</td>\n",
       "      <td>0.0</td>\n",
       "    </tr>\n",
       "    <tr>\n",
       "      <th>4</th>\n",
       "      <td>4</td>\n",
       "      <td>Rent</td>\n",
       "      <td>776264.0</td>\n",
       "      <td>8 years</td>\n",
       "      <td>0.0</td>\n",
       "      <td>13.0</td>\n",
       "      <td>13.6</td>\n",
       "      <td>385836.0</td>\n",
       "      <td>1.0</td>\n",
       "      <td>NaN</td>\n",
       "      <td>0.0</td>\n",
       "      <td>debt consolidation</td>\n",
       "      <td>Short Term</td>\n",
       "      <td>125840.0</td>\n",
       "      <td>93309.0</td>\n",
       "      <td>7180.0</td>\n",
       "      <td>719.0</td>\n",
       "      <td>0.0</td>\n",
       "    </tr>\n",
       "  </tbody>\n",
       "</table>\n",
       "</div>"
      ],
      "text/plain": [
       "   Id Home Ownership  Annual Income Years in current job  Tax Liens  \\\n",
       "0   0       Own Home       482087.0                  NaN        0.0   \n",
       "1   1       Own Home      1025487.0            10+ years        0.0   \n",
       "2   2  Home Mortgage       751412.0              8 years        0.0   \n",
       "3   3       Own Home       805068.0              6 years        0.0   \n",
       "4   4           Rent       776264.0              8 years        0.0   \n",
       "\n",
       "   Number of Open Accounts  Years of Credit History  Maximum Open Credit  \\\n",
       "0                     11.0                     26.3             685960.0   \n",
       "1                     15.0                     15.3            1181730.0   \n",
       "2                     11.0                     35.0            1182434.0   \n",
       "3                      8.0                     22.5             147400.0   \n",
       "4                     13.0                     13.6             385836.0   \n",
       "\n",
       "   Number of Credit Problems  Months since last delinquent  Bankruptcies  \\\n",
       "0                        1.0                           NaN           1.0   \n",
       "1                        0.0                           NaN           0.0   \n",
       "2                        0.0                           NaN           0.0   \n",
       "3                        1.0                           NaN           1.0   \n",
       "4                        1.0                           NaN           0.0   \n",
       "\n",
       "              Purpose        Term  Current Loan Amount  \\\n",
       "0  debt consolidation  Short Term           99999999.0   \n",
       "1  debt consolidation   Long Term             264968.0   \n",
       "2  debt consolidation  Short Term           99999999.0   \n",
       "3  debt consolidation  Short Term             121396.0   \n",
       "4  debt consolidation  Short Term             125840.0   \n",
       "\n",
       "   Current Credit Balance  Monthly Debt  Credit Score  Credit Default  \n",
       "0                 47386.0        7914.0         749.0             0.0  \n",
       "1                394972.0       18373.0         737.0             1.0  \n",
       "2                308389.0       13651.0         742.0             0.0  \n",
       "3                 95855.0       11338.0         694.0             0.0  \n",
       "4                 93309.0        7180.0         719.0             0.0  "
      ]
     },
     "execution_count": 10,
     "metadata": {},
     "output_type": "execute_result"
    }
   ],
   "source": [
    "pd.set_option(\"display.max_columns\", 150)\n",
    "data.head()"
   ]
  },
  {
   "cell_type": "code",
   "execution_count": 11,
   "metadata": {},
   "outputs": [
    {
     "name": "stdout",
     "output_type": "stream",
     "text": [
      "<class 'pandas.core.frame.DataFrame'>\n",
      "Int64Index: 10000 entries, 0 to 2499\n",
      "Data columns (total 18 columns):\n",
      " #   Column                        Non-Null Count  Dtype  \n",
      "---  ------                        --------------  -----  \n",
      " 0   Id                            10000 non-null  int64  \n",
      " 1   Home Ownership                10000 non-null  object \n",
      " 2   Annual Income                 7930 non-null   float64\n",
      " 3   Years in current job          9543 non-null   object \n",
      " 4   Tax Liens                     10000 non-null  float64\n",
      " 5   Number of Open Accounts       10000 non-null  float64\n",
      " 6   Years of Credit History       10000 non-null  float64\n",
      " 7   Maximum Open Credit           10000 non-null  float64\n",
      " 8   Number of Credit Problems     10000 non-null  float64\n",
      " 9   Months since last delinquent  4561 non-null   float64\n",
      " 10  Bankruptcies                  9983 non-null   float64\n",
      " 11  Purpose                       10000 non-null  object \n",
      " 12  Term                          10000 non-null  object \n",
      " 13  Current Loan Amount           10000 non-null  float64\n",
      " 14  Current Credit Balance        10000 non-null  float64\n",
      " 15  Monthly Debt                  10000 non-null  float64\n",
      " 16  Credit Score                  7930 non-null   float64\n",
      " 17  Credit Default                7500 non-null   float64\n",
      "dtypes: float64(13), int64(1), object(4)\n",
      "memory usage: 1.4+ MB\n"
     ]
    }
   ],
   "source": [
    "data.info()"
   ]
  },
  {
   "cell_type": "code",
   "execution_count": 12,
   "metadata": {},
   "outputs": [],
   "source": [
    "# replace '<' for xgb algorithm\n",
    "data.replace(['<'],'less than', regex=True, inplace=True)"
   ]
  },
  {
   "cell_type": "code",
   "execution_count": 13,
   "metadata": {
    "scrolled": true
   },
   "outputs": [
    {
     "data": {
      "text/html": [
       "<div>\n",
       "<style scoped>\n",
       "    .dataframe tbody tr th:only-of-type {\n",
       "        vertical-align: middle;\n",
       "    }\n",
       "\n",
       "    .dataframe tbody tr th {\n",
       "        vertical-align: top;\n",
       "    }\n",
       "\n",
       "    .dataframe thead th {\n",
       "        text-align: right;\n",
       "    }\n",
       "</style>\n",
       "<table border=\"1\" class=\"dataframe\">\n",
       "  <thead>\n",
       "    <tr style=\"text-align: right;\">\n",
       "      <th></th>\n",
       "      <th>index</th>\n",
       "      <th>Years in current job</th>\n",
       "    </tr>\n",
       "  </thead>\n",
       "  <tbody>\n",
       "    <tr>\n",
       "      <th>0</th>\n",
       "      <td>10+ years</td>\n",
       "      <td>3142</td>\n",
       "    </tr>\n",
       "    <tr>\n",
       "      <th>1</th>\n",
       "      <td>2 years</td>\n",
       "      <td>917</td>\n",
       "    </tr>\n",
       "    <tr>\n",
       "      <th>2</th>\n",
       "      <td>3 years</td>\n",
       "      <td>848</td>\n",
       "    </tr>\n",
       "    <tr>\n",
       "      <th>3</th>\n",
       "      <td>less than 1 year</td>\n",
       "      <td>770</td>\n",
       "    </tr>\n",
       "    <tr>\n",
       "      <th>4</th>\n",
       "      <td>5 years</td>\n",
       "      <td>685</td>\n",
       "    </tr>\n",
       "    <tr>\n",
       "      <th>5</th>\n",
       "      <td>1 year</td>\n",
       "      <td>657</td>\n",
       "    </tr>\n",
       "    <tr>\n",
       "      <th>6</th>\n",
       "      <td>4 years</td>\n",
       "      <td>621</td>\n",
       "    </tr>\n",
       "    <tr>\n",
       "      <th>7</th>\n",
       "      <td>6 years</td>\n",
       "      <td>563</td>\n",
       "    </tr>\n",
       "    <tr>\n",
       "      <th>8</th>\n",
       "      <td>7 years</td>\n",
       "      <td>536</td>\n",
       "    </tr>\n",
       "    <tr>\n",
       "      <th>9</th>\n",
       "      <td>8 years</td>\n",
       "      <td>446</td>\n",
       "    </tr>\n",
       "    <tr>\n",
       "      <th>10</th>\n",
       "      <td>9 years</td>\n",
       "      <td>358</td>\n",
       "    </tr>\n",
       "  </tbody>\n",
       "</table>\n",
       "</div>"
      ],
      "text/plain": [
       "               index  Years in current job\n",
       "0          10+ years                  3142\n",
       "1            2 years                   917\n",
       "2            3 years                   848\n",
       "3   less than 1 year                   770\n",
       "4            5 years                   685\n",
       "5             1 year                   657\n",
       "6            4 years                   621\n",
       "7            6 years                   563\n",
       "8            7 years                   536\n",
       "9            8 years                   446\n",
       "10           9 years                   358"
      ]
     },
     "execution_count": 13,
     "metadata": {},
     "output_type": "execute_result"
    }
   ],
   "source": [
    "data['Years in current job'].value_counts().reset_index()"
   ]
  },
  {
   "cell_type": "code",
   "execution_count": 14,
   "metadata": {
    "scrolled": true
   },
   "outputs": [
    {
     "data": {
      "text/plain": [
       "Id                                 0\n",
       "Home Ownership                     0\n",
       "Annual Income                   2070\n",
       "Years in current job             457\n",
       "Tax Liens                          0\n",
       "Number of Open Accounts            0\n",
       "Years of Credit History            0\n",
       "Maximum Open Credit                0\n",
       "Number of Credit Problems          0\n",
       "Months since last delinquent    5439\n",
       "Bankruptcies                      17\n",
       "Purpose                            0\n",
       "Term                               0\n",
       "Current Loan Amount                0\n",
       "Current Credit Balance             0\n",
       "Monthly Debt                       0\n",
       "Credit Score                    2070\n",
       "Credit Default                  2500\n",
       "dtype: int64"
      ]
     },
     "execution_count": 14,
     "metadata": {},
     "output_type": "execute_result"
    }
   ],
   "source": [
    "data.isnull().sum()"
   ]
  },
  {
   "cell_type": "code",
   "execution_count": 15,
   "metadata": {},
   "outputs": [
    {
     "name": "stdout",
     "output_type": "stream",
     "text": [
      "['Id', 'Annual Income', 'Tax Liens', 'Number of Open Accounts', 'Years of Credit History', 'Maximum Open Credit', 'Number of Credit Problems', 'Months since last delinquent', 'Bankruptcies', 'Current Loan Amount', 'Current Credit Balance', 'Monthly Debt', 'Credit Score', 'Credit Default']\n"
     ]
    }
   ],
   "source": [
    "# List the numeric columns\n",
    "num = [col for col in data.columns if data[col].dtype != 'object']\n",
    "print(num)"
   ]
  },
  {
   "cell_type": "code",
   "execution_count": 16,
   "metadata": {},
   "outputs": [
    {
     "name": "stdout",
     "output_type": "stream",
     "text": [
      "['Home Ownership', 'Years in current job', 'Purpose', 'Term']\n"
     ]
    }
   ],
   "source": [
    "# List the categorical columns\n",
    "obj = [col for col in data.columns if data[col].dtype == 'object']\n",
    "print(obj)"
   ]
  },
  {
   "cell_type": "code",
   "execution_count": 17,
   "metadata": {},
   "outputs": [
    {
     "data": {
      "text/plain": [
       "Id                              [0, 1, 2, 3, 4, 5, 6, 7, 8, 9, 10, 11, 12, 13,...\n",
       "Annual Income                   [482087.0, 1025487.0, 751412.0, 805068.0, 7762...\n",
       "Tax Liens                          [0.0, 3.0, 1.0, 2.0, 4.0, 6.0, 5.0, 7.0, 15.0]\n",
       "Number of Open Accounts         [11.0, 15.0, 8.0, 13.0, 12.0, 9.0, 17.0, 10.0,...\n",
       "Years of Credit History         [26.3, 15.3, 35.0, 22.5, 13.6, 14.6, 20.3, 12....\n",
       "Maximum Open Credit             [685960.0, 1181730.0, 1182434.0, 147400.0, 385...\n",
       "Number of Credit Problems          [1.0, 0.0, 3.0, 2.0, 6.0, 4.0, 5.0, 7.0, 15.0]\n",
       "Months since last delinquent    [nan, 73.0, 18.0, 6.0, 40.0, 44.0, 45.0, 17.0,...\n",
       "Bankruptcies                                  [1.0, 0.0, 3.0, nan, 2.0, 4.0, 5.0]\n",
       "Current Loan Amount             [99999999.0, 264968.0, 121396.0, 125840.0, 337...\n",
       "Current Credit Balance          [47386.0, 394972.0, 308389.0, 95855.0, 93309.0...\n",
       "Monthly Debt                    [7914.0, 18373.0, 13651.0, 11338.0, 7180.0, 18...\n",
       "Credit Score                    [749.0, 737.0, 742.0, 694.0, 719.0, nan, 745.0...\n",
       "Credit Default                                                    [0.0, 1.0, nan]\n",
       "dtype: object"
      ]
     },
     "execution_count": 17,
     "metadata": {},
     "output_type": "execute_result"
    }
   ],
   "source": [
    "# List the unique values in each numeric column \n",
    "pd.Series({col: data[col].unique() for col in data[num].columns})"
   ]
  },
  {
   "cell_type": "code",
   "execution_count": 18,
   "metadata": {},
   "outputs": [
    {
     "data": {
      "text/plain": [
       "Home Ownership             [Own Home, Home Mortgage, Rent, Have Mortgage]\n",
       "Years in current job    [nan, 10+ years, 8 years, 6 years, 7 years, 5 ...\n",
       "Purpose                 [debt consolidation, other, home improvements,...\n",
       "Term                                              [Short Term, Long Term]\n",
       "dtype: object"
      ]
     },
     "execution_count": 18,
     "metadata": {},
     "output_type": "execute_result"
    }
   ],
   "source": [
    "# List the unique values in each categorical column\n",
    "pd.Series({col: data[col].unique() for col in data[obj].columns})"
   ]
  },
  {
   "cell_type": "code",
   "execution_count": 19,
   "metadata": {},
   "outputs": [
    {
     "data": {
      "image/png": "[encoded data removed]",
      "text/plain": [
       "<Figure size 1152x288 with 4 Axes>"
      ]
     },
     "metadata": {
      "needs_background": "light"
     },
     "output_type": "display_data"
    }
   ],
   "source": [
    "# histograms of num columns \n",
    "missing = ['Annual Income', 'Months since last delinquent', 'Bankruptcies', 'Credit Score']\n",
    "fig, axs = plt.subplots(1, 4, figsize=(16, 4))\n",
    "for f, ax in zip(missing, axs.ravel()):\n",
    "    ax.hist(train[f], density=True, bins=100)\n",
    "    ax.set_title(f'Train {f}, std={train[f].std():.1f}')\n",
    "plt.suptitle('Histograms of the float features')\n",
    "plt.show()"
   ]
  },
  {
   "cell_type": "code",
   "execution_count": 20,
   "metadata": {},
   "outputs": [
    {
     "data": {
      "text/plain": [
       "0.0    8912\n",
       "1.0    1020\n",
       "2.0      36\n",
       "3.0      10\n",
       "4.0       3\n",
       "5.0       2\n",
       "Name: Bankruptcies, dtype: int64"
      ]
     },
     "execution_count": 20,
     "metadata": {},
     "output_type": "execute_result"
    }
   ],
   "source": [
    "data['Bankruptcies'].value_counts()"
   ]
  },
  {
   "cell_type": "code",
   "execution_count": 21,
   "metadata": {},
   "outputs": [
    {
     "data": {
      "text/html": [
       "<div>\n",
       "<style scoped>\n",
       "    .dataframe tbody tr th:only-of-type {\n",
       "        vertical-align: middle;\n",
       "    }\n",
       "\n",
       "    .dataframe tbody tr th {\n",
       "        vertical-align: top;\n",
       "    }\n",
       "\n",
       "    .dataframe thead th {\n",
       "        text-align: right;\n",
       "    }\n",
       "</style>\n",
       "<table border=\"1\" class=\"dataframe\">\n",
       "  <thead>\n",
       "    <tr style=\"text-align: right;\">\n",
       "      <th></th>\n",
       "      <th>Credit Score</th>\n",
       "      <th>Id</th>\n",
       "    </tr>\n",
       "  </thead>\n",
       "  <tbody>\n",
       "    <tr>\n",
       "      <th>0</th>\n",
       "      <td>740.0</td>\n",
       "      <td>219</td>\n",
       "    </tr>\n",
       "    <tr>\n",
       "      <th>1</th>\n",
       "      <td>747.0</td>\n",
       "      <td>217</td>\n",
       "    </tr>\n",
       "    <tr>\n",
       "      <th>2</th>\n",
       "      <td>741.0</td>\n",
       "      <td>205</td>\n",
       "    </tr>\n",
       "    <tr>\n",
       "      <th>3</th>\n",
       "      <td>748.0</td>\n",
       "      <td>201</td>\n",
       "    </tr>\n",
       "    <tr>\n",
       "      <th>4</th>\n",
       "      <td>746.0</td>\n",
       "      <td>201</td>\n",
       "    </tr>\n",
       "  </tbody>\n",
       "</table>\n",
       "</div>"
      ],
      "text/plain": [
       "   Credit Score   Id\n",
       "0         740.0  219\n",
       "1         747.0  217\n",
       "2         741.0  205\n",
       "3         748.0  201\n",
       "4         746.0  201"
      ]
     },
     "execution_count": 21,
     "metadata": {},
     "output_type": "execute_result"
    }
   ],
   "source": [
    "data_credit_score = data.groupby(['Credit Score'])['Id'].count().sort_values(ascending=False).reset_index()\n",
    "data_credit_score.head()"
   ]
  },
  {
   "cell_type": "code",
   "execution_count": 22,
   "metadata": {
    "scrolled": true
   },
   "outputs": [
    {
     "data": {
      "text/plain": [
       "Id                              0.0000\n",
       "Home Ownership                  0.0000\n",
       "Annual Income                   0.2070\n",
       "Years in current job            0.0457\n",
       "Tax Liens                       0.0000\n",
       "Number of Open Accounts         0.0000\n",
       "Years of Credit History         0.0000\n",
       "Maximum Open Credit             0.0000\n",
       "Number of Credit Problems       0.0000\n",
       "Months since last delinquent    0.5439\n",
       "Bankruptcies                    0.0017\n",
       "Purpose                         0.0000\n",
       "Term                            0.0000\n",
       "Current Loan Amount             0.0000\n",
       "Current Credit Balance          0.0000\n",
       "Monthly Debt                    0.0000\n",
       "Credit Score                    0.2070\n",
       "Credit Default                  0.2500\n",
       "dtype: float64"
      ]
     },
     "execution_count": 22,
     "metadata": {},
     "output_type": "execute_result"
    }
   ],
   "source": [
    "null_perc = data.isna().sum()/data.shape[0]\n",
    "null_perc"
   ]
  },
  {
   "cell_type": "code",
   "execution_count": 23,
   "metadata": {},
   "outputs": [
    {
     "data": {
      "text/plain": [
       "(10000, 18)"
      ]
     },
     "execution_count": 23,
     "metadata": {},
     "output_type": "execute_result"
    }
   ],
   "source": [
    "data.shape"
   ]
  },
  {
   "cell_type": "code",
   "execution_count": 24,
   "metadata": {},
   "outputs": [
    {
     "data": {
      "text/plain": [
       "<matplotlib.axes._subplots.AxesSubplot at 0x12b53245940>"
      ]
     },
     "execution_count": 24,
     "metadata": {},
     "output_type": "execute_result"
    },
    {
     "data": {
      "image/png": "[encoded data removed]",
      "text/plain": [
       "<Figure size 1800x720 with 2 Axes>"
      ]
     },
     "metadata": {
      "needs_background": "light"
     },
     "output_type": "display_data"
    }
   ],
   "source": [
    "missingdata_data = data.columns[data.isnull().any()].tolist()\n",
    "msno.matrix(data[missingdata_data])"
   ]
  },
  {
   "cell_type": "code",
   "execution_count": 25,
   "metadata": {},
   "outputs": [],
   "source": [
    "num = [col for col in data.columns if data[col].dtype != 'object' and col != 'Credit Default']\n",
    "obj = [col for col in data.columns if data[col].dtype == 'object']"
   ]
  },
  {
   "cell_type": "code",
   "execution_count": 26,
   "metadata": {},
   "outputs": [],
   "source": [
    "data['Bankruptcies'].fillna(0, inplace=True)\n",
    "data['Months since last delinquent'].fillna(0, inplace=True)"
   ]
  },
  {
   "cell_type": "code",
   "execution_count": 27,
   "metadata": {},
   "outputs": [],
   "source": [
    "data['Credit Score'].fillna(data['Credit Score'].median(), inplace = True)"
   ]
  },
  {
   "cell_type": "code",
   "execution_count": 28,
   "metadata": {},
   "outputs": [],
   "source": [
    "mice_impute = IterativeImputer(min_value=0)\n",
    "data[num] = mice_impute.fit_transform(data[num])"
   ]
  },
  {
   "cell_type": "code",
   "execution_count": 29,
   "metadata": {},
   "outputs": [],
   "source": [
    "# Use fillna to impute null values with mode in categorical columns \n",
    "l = data[obj].mode()\n",
    "data[obj] = data[obj].fillna(value=l.iloc[0])\n",
    "\n",
    "# can try KNN imputer next time"
   ]
  },
  {
   "cell_type": "code",
   "execution_count": 30,
   "metadata": {},
   "outputs": [
    {
     "data": {
      "text/plain": [
       "Id                                 0\n",
       "Home Ownership                     0\n",
       "Annual Income                      0\n",
       "Years in current job               0\n",
       "Tax Liens                          0\n",
       "Number of Open Accounts            0\n",
       "Years of Credit History            0\n",
       "Maximum Open Credit                0\n",
       "Number of Credit Problems          0\n",
       "Months since last delinquent       0\n",
       "Bankruptcies                       0\n",
       "Purpose                            0\n",
       "Term                               0\n",
       "Current Loan Amount                0\n",
       "Current Credit Balance             0\n",
       "Monthly Debt                       0\n",
       "Credit Score                       0\n",
       "Credit Default                  2500\n",
       "dtype: int64"
      ]
     },
     "execution_count": 30,
     "metadata": {},
     "output_type": "execute_result"
    }
   ],
   "source": [
    "data.isnull().sum()"
   ]
  },
  {
   "cell_type": "code",
   "execution_count": 31,
   "metadata": {},
   "outputs": [],
   "source": [
    "# All features \n",
    "data_num = list(data.select_dtypes(include = np.number).columns)\n",
    "data_obj = list(data.select_dtypes(include = np.object).columns) "
   ]
  },
  {
   "cell_type": "code",
   "execution_count": 32,
   "metadata": {},
   "outputs": [
    {
     "data": {
      "text/plain": [
       "['Id',\n",
       " 'Annual Income',\n",
       " 'Tax Liens',\n",
       " 'Number of Open Accounts',\n",
       " 'Years of Credit History',\n",
       " 'Maximum Open Credit',\n",
       " 'Number of Credit Problems',\n",
       " 'Months since last delinquent',\n",
       " 'Bankruptcies',\n",
       " 'Current Loan Amount',\n",
       " 'Current Credit Balance',\n",
       " 'Monthly Debt',\n",
       " 'Credit Score',\n",
       " 'Credit Default']"
      ]
     },
     "execution_count": 32,
     "metadata": {},
     "output_type": "execute_result"
    }
   ],
   "source": [
    "data_num"
   ]
  },
  {
   "cell_type": "code",
   "execution_count": 33,
   "metadata": {},
   "outputs": [
    {
     "data": {
      "text/plain": [
       "['Home Ownership', 'Years in current job', 'Purpose', 'Term']"
      ]
     },
     "execution_count": 33,
     "metadata": {},
     "output_type": "execute_result"
    }
   ],
   "source": [
    "data_obj"
   ]
  },
  {
   "cell_type": "code",
   "execution_count": 34,
   "metadata": {},
   "outputs": [],
   "source": [
    "dum = pd.get_dummies(data[data_obj], drop_first=True)"
   ]
  },
  {
   "cell_type": "code",
   "execution_count": 35,
   "metadata": {},
   "outputs": [],
   "source": [
    "data_mod = pd.concat([data[data_num], dum], axis = 1)"
   ]
  },
  {
   "cell_type": "code",
   "execution_count": 36,
   "metadata": {},
   "outputs": [
    {
     "data": {
      "text/plain": [
       "(10000, 42)"
      ]
     },
     "execution_count": 36,
     "metadata": {},
     "output_type": "execute_result"
    }
   ],
   "source": [
    "data_mod.shape"
   ]
  },
  {
   "cell_type": "code",
   "execution_count": 37,
   "metadata": {},
   "outputs": [
    {
     "data": {
      "text/html": [
       "<div>\n",
       "<style scoped>\n",
       "    .dataframe tbody tr th:only-of-type {\n",
       "        vertical-align: middle;\n",
       "    }\n",
       "\n",
       "    .dataframe tbody tr th {\n",
       "        vertical-align: top;\n",
       "    }\n",
       "\n",
       "    .dataframe thead th {\n",
       "        text-align: right;\n",
       "    }\n",
       "</style>\n",
       "<table border=\"1\" class=\"dataframe\">\n",
       "  <thead>\n",
       "    <tr style=\"text-align: right;\">\n",
       "      <th></th>\n",
       "      <th>Id</th>\n",
       "      <th>Annual Income</th>\n",
       "      <th>Tax Liens</th>\n",
       "      <th>Number of Open Accounts</th>\n",
       "      <th>Years of Credit History</th>\n",
       "      <th>Maximum Open Credit</th>\n",
       "      <th>Number of Credit Problems</th>\n",
       "      <th>Months since last delinquent</th>\n",
       "      <th>Bankruptcies</th>\n",
       "      <th>Current Loan Amount</th>\n",
       "      <th>Current Credit Balance</th>\n",
       "      <th>Monthly Debt</th>\n",
       "      <th>Credit Score</th>\n",
       "      <th>Credit Default</th>\n",
       "      <th>Home Ownership_Home Mortgage</th>\n",
       "      <th>Home Ownership_Own Home</th>\n",
       "      <th>Home Ownership_Rent</th>\n",
       "      <th>Years in current job_10+ years</th>\n",
       "      <th>Years in current job_2 years</th>\n",
       "      <th>Years in current job_3 years</th>\n",
       "      <th>Years in current job_4 years</th>\n",
       "      <th>Years in current job_5 years</th>\n",
       "      <th>Years in current job_6 years</th>\n",
       "      <th>Years in current job_7 years</th>\n",
       "      <th>Years in current job_8 years</th>\n",
       "      <th>Years in current job_9 years</th>\n",
       "      <th>Years in current job_less than 1 year</th>\n",
       "      <th>Purpose_buy a car</th>\n",
       "      <th>Purpose_buy house</th>\n",
       "      <th>Purpose_debt consolidation</th>\n",
       "      <th>Purpose_educational expenses</th>\n",
       "      <th>Purpose_home improvements</th>\n",
       "      <th>Purpose_major purchase</th>\n",
       "      <th>Purpose_medical bills</th>\n",
       "      <th>Purpose_moving</th>\n",
       "      <th>Purpose_other</th>\n",
       "      <th>Purpose_renewable energy</th>\n",
       "      <th>Purpose_small business</th>\n",
       "      <th>Purpose_take a trip</th>\n",
       "      <th>Purpose_vacation</th>\n",
       "      <th>Purpose_wedding</th>\n",
       "      <th>Term_Short Term</th>\n",
       "    </tr>\n",
       "  </thead>\n",
       "  <tbody>\n",
       "    <tr>\n",
       "      <th>2495</th>\n",
       "      <td>9995.0</td>\n",
       "      <td>1.020053e+06</td>\n",
       "      <td>0.0</td>\n",
       "      <td>14.0</td>\n",
       "      <td>29.1</td>\n",
       "      <td>559152.0</td>\n",
       "      <td>1.0</td>\n",
       "      <td>68.0</td>\n",
       "      <td>1.0</td>\n",
       "      <td>99999999.0</td>\n",
       "      <td>162735.0</td>\n",
       "      <td>15046.0</td>\n",
       "      <td>745.0</td>\n",
       "      <td>NaN</td>\n",
       "      <td>1</td>\n",
       "      <td>0</td>\n",
       "      <td>0</td>\n",
       "      <td>1</td>\n",
       "      <td>0</td>\n",
       "      <td>0</td>\n",
       "      <td>0</td>\n",
       "      <td>0</td>\n",
       "      <td>0</td>\n",
       "      <td>0</td>\n",
       "      <td>0</td>\n",
       "      <td>0</td>\n",
       "      <td>0</td>\n",
       "      <td>0</td>\n",
       "      <td>0</td>\n",
       "      <td>1</td>\n",
       "      <td>0</td>\n",
       "      <td>0</td>\n",
       "      <td>0</td>\n",
       "      <td>0</td>\n",
       "      <td>0</td>\n",
       "      <td>0</td>\n",
       "      <td>0</td>\n",
       "      <td>0</td>\n",
       "      <td>0</td>\n",
       "      <td>0</td>\n",
       "      <td>0</td>\n",
       "      <td>1</td>\n",
       "    </tr>\n",
       "    <tr>\n",
       "      <th>2496</th>\n",
       "      <td>9996.0</td>\n",
       "      <td>2.253885e+06</td>\n",
       "      <td>0.0</td>\n",
       "      <td>15.0</td>\n",
       "      <td>17.0</td>\n",
       "      <td>1737780.0</td>\n",
       "      <td>0.0</td>\n",
       "      <td>77.0</td>\n",
       "      <td>0.0</td>\n",
       "      <td>468512.0</td>\n",
       "      <td>1439269.0</td>\n",
       "      <td>32996.0</td>\n",
       "      <td>731.0</td>\n",
       "      <td>NaN</td>\n",
       "      <td>1</td>\n",
       "      <td>0</td>\n",
       "      <td>0</td>\n",
       "      <td>0</td>\n",
       "      <td>1</td>\n",
       "      <td>0</td>\n",
       "      <td>0</td>\n",
       "      <td>0</td>\n",
       "      <td>0</td>\n",
       "      <td>0</td>\n",
       "      <td>0</td>\n",
       "      <td>0</td>\n",
       "      <td>0</td>\n",
       "      <td>0</td>\n",
       "      <td>0</td>\n",
       "      <td>1</td>\n",
       "      <td>0</td>\n",
       "      <td>0</td>\n",
       "      <td>0</td>\n",
       "      <td>0</td>\n",
       "      <td>0</td>\n",
       "      <td>0</td>\n",
       "      <td>0</td>\n",
       "      <td>0</td>\n",
       "      <td>0</td>\n",
       "      <td>0</td>\n",
       "      <td>0</td>\n",
       "      <td>1</td>\n",
       "    </tr>\n",
       "    <tr>\n",
       "      <th>2497</th>\n",
       "      <td>9997.0</td>\n",
       "      <td>1.171806e+06</td>\n",
       "      <td>0.0</td>\n",
       "      <td>48.0</td>\n",
       "      <td>12.8</td>\n",
       "      <td>1706430.0</td>\n",
       "      <td>0.0</td>\n",
       "      <td>0.0</td>\n",
       "      <td>0.0</td>\n",
       "      <td>430496.0</td>\n",
       "      <td>676438.0</td>\n",
       "      <td>36912.0</td>\n",
       "      <td>695.0</td>\n",
       "      <td>NaN</td>\n",
       "      <td>1</td>\n",
       "      <td>0</td>\n",
       "      <td>0</td>\n",
       "      <td>0</td>\n",
       "      <td>1</td>\n",
       "      <td>0</td>\n",
       "      <td>0</td>\n",
       "      <td>0</td>\n",
       "      <td>0</td>\n",
       "      <td>0</td>\n",
       "      <td>0</td>\n",
       "      <td>0</td>\n",
       "      <td>0</td>\n",
       "      <td>0</td>\n",
       "      <td>0</td>\n",
       "      <td>1</td>\n",
       "      <td>0</td>\n",
       "      <td>0</td>\n",
       "      <td>0</td>\n",
       "      <td>0</td>\n",
       "      <td>0</td>\n",
       "      <td>0</td>\n",
       "      <td>0</td>\n",
       "      <td>0</td>\n",
       "      <td>0</td>\n",
       "      <td>0</td>\n",
       "      <td>0</td>\n",
       "      <td>1</td>\n",
       "    </tr>\n",
       "    <tr>\n",
       "      <th>2498</th>\n",
       "      <td>9998.0</td>\n",
       "      <td>7.235200e+05</td>\n",
       "      <td>0.0</td>\n",
       "      <td>14.0</td>\n",
       "      <td>28.8</td>\n",
       "      <td>945780.0</td>\n",
       "      <td>0.0</td>\n",
       "      <td>0.0</td>\n",
       "      <td>0.0</td>\n",
       "      <td>257774.0</td>\n",
       "      <td>391248.0</td>\n",
       "      <td>13506.0</td>\n",
       "      <td>744.0</td>\n",
       "      <td>NaN</td>\n",
       "      <td>0</td>\n",
       "      <td>0</td>\n",
       "      <td>1</td>\n",
       "      <td>1</td>\n",
       "      <td>0</td>\n",
       "      <td>0</td>\n",
       "      <td>0</td>\n",
       "      <td>0</td>\n",
       "      <td>0</td>\n",
       "      <td>0</td>\n",
       "      <td>0</td>\n",
       "      <td>0</td>\n",
       "      <td>0</td>\n",
       "      <td>0</td>\n",
       "      <td>0</td>\n",
       "      <td>1</td>\n",
       "      <td>0</td>\n",
       "      <td>0</td>\n",
       "      <td>0</td>\n",
       "      <td>0</td>\n",
       "      <td>0</td>\n",
       "      <td>0</td>\n",
       "      <td>0</td>\n",
       "      <td>0</td>\n",
       "      <td>0</td>\n",
       "      <td>0</td>\n",
       "      <td>0</td>\n",
       "      <td>1</td>\n",
       "    </tr>\n",
       "    <tr>\n",
       "      <th>2499</th>\n",
       "      <td>9999.0</td>\n",
       "      <td>1.694439e+06</td>\n",
       "      <td>0.0</td>\n",
       "      <td>12.0</td>\n",
       "      <td>18.4</td>\n",
       "      <td>1199748.0</td>\n",
       "      <td>1.0</td>\n",
       "      <td>72.0</td>\n",
       "      <td>0.0</td>\n",
       "      <td>763004.0</td>\n",
       "      <td>559531.0</td>\n",
       "      <td>23440.0</td>\n",
       "      <td>6820.0</td>\n",
       "      <td>NaN</td>\n",
       "      <td>0</td>\n",
       "      <td>0</td>\n",
       "      <td>1</td>\n",
       "      <td>1</td>\n",
       "      <td>0</td>\n",
       "      <td>0</td>\n",
       "      <td>0</td>\n",
       "      <td>0</td>\n",
       "      <td>0</td>\n",
       "      <td>0</td>\n",
       "      <td>0</td>\n",
       "      <td>0</td>\n",
       "      <td>0</td>\n",
       "      <td>0</td>\n",
       "      <td>0</td>\n",
       "      <td>1</td>\n",
       "      <td>0</td>\n",
       "      <td>0</td>\n",
       "      <td>0</td>\n",
       "      <td>0</td>\n",
       "      <td>0</td>\n",
       "      <td>0</td>\n",
       "      <td>0</td>\n",
       "      <td>0</td>\n",
       "      <td>0</td>\n",
       "      <td>0</td>\n",
       "      <td>0</td>\n",
       "      <td>0</td>\n",
       "    </tr>\n",
       "  </tbody>\n",
       "</table>\n",
       "</div>"
      ],
      "text/plain": [
       "          Id  Annual Income  Tax Liens  Number of Open Accounts  \\\n",
       "2495  9995.0   1.020053e+06        0.0                     14.0   \n",
       "2496  9996.0   2.253885e+06        0.0                     15.0   \n",
       "2497  9997.0   1.171806e+06        0.0                     48.0   \n",
       "2498  9998.0   7.235200e+05        0.0                     14.0   \n",
       "2499  9999.0   1.694439e+06        0.0                     12.0   \n",
       "\n",
       "      Years of Credit History  Maximum Open Credit  Number of Credit Problems  \\\n",
       "2495                     29.1             559152.0                        1.0   \n",
       "2496                     17.0            1737780.0                        0.0   \n",
       "2497                     12.8            1706430.0                        0.0   \n",
       "2498                     28.8             945780.0                        0.0   \n",
       "2499                     18.4            1199748.0                        1.0   \n",
       "\n",
       "      Months since last delinquent  Bankruptcies  Current Loan Amount  \\\n",
       "2495                          68.0           1.0           99999999.0   \n",
       "2496                          77.0           0.0             468512.0   \n",
       "2497                           0.0           0.0             430496.0   \n",
       "2498                           0.0           0.0             257774.0   \n",
       "2499                          72.0           0.0             763004.0   \n",
       "\n",
       "      Current Credit Balance  Monthly Debt  Credit Score  Credit Default  \\\n",
       "2495                162735.0       15046.0         745.0             NaN   \n",
       "2496               1439269.0       32996.0         731.0             NaN   \n",
       "2497                676438.0       36912.0         695.0             NaN   \n",
       "2498                391248.0       13506.0         744.0             NaN   \n",
       "2499                559531.0       23440.0        6820.0             NaN   \n",
       "\n",
       "      Home Ownership_Home Mortgage  Home Ownership_Own Home  \\\n",
       "2495                             1                        0   \n",
       "2496                             1                        0   \n",
       "2497                             1                        0   \n",
       "2498                             0                        0   \n",
       "2499                             0                        0   \n",
       "\n",
       "      Home Ownership_Rent  Years in current job_10+ years  \\\n",
       "2495                    0                               1   \n",
       "2496                    0                               0   \n",
       "2497                    0                               0   \n",
       "2498                    1                               1   \n",
       "2499                    1                               1   \n",
       "\n",
       "      Years in current job_2 years  Years in current job_3 years  \\\n",
       "2495                             0                             0   \n",
       "2496                             1                             0   \n",
       "2497                             1                             0   \n",
       "2498                             0                             0   \n",
       "2499                             0                             0   \n",
       "\n",
       "      Years in current job_4 years  Years in current job_5 years  \\\n",
       "2495                             0                             0   \n",
       "2496                             0                             0   \n",
       "2497                             0                             0   \n",
       "2498                             0                             0   \n",
       "2499                             0                             0   \n",
       "\n",
       "      Years in current job_6 years  Years in current job_7 years  \\\n",
       "2495                             0                             0   \n",
       "2496                             0                             0   \n",
       "2497                             0                             0   \n",
       "2498                             0                             0   \n",
       "2499                             0                             0   \n",
       "\n",
       "      Years in current job_8 years  Years in current job_9 years  \\\n",
       "2495                             0                             0   \n",
       "2496                             0                             0   \n",
       "2497                             0                             0   \n",
       "2498                             0                             0   \n",
       "2499                             0                             0   \n",
       "\n",
       "      Years in current job_less than 1 year  Purpose_buy a car  \\\n",
       "2495                                      0                  0   \n",
       "2496                                      0                  0   \n",
       "2497                                      0                  0   \n",
       "2498                                      0                  0   \n",
       "2499                                      0                  0   \n",
       "\n",
       "      Purpose_buy house  Purpose_debt consolidation  \\\n",
       "2495                  0                           1   \n",
       "2496                  0                           1   \n",
       "2497                  0                           1   \n",
       "2498                  0                           1   \n",
       "2499                  0                           1   \n",
       "\n",
       "      Purpose_educational expenses  Purpose_home improvements  \\\n",
       "2495                             0                          0   \n",
       "2496                             0                          0   \n",
       "2497                             0                          0   \n",
       "2498                             0                          0   \n",
       "2499                             0                          0   \n",
       "\n",
       "      Purpose_major purchase  Purpose_medical bills  Purpose_moving  \\\n",
       "2495                       0                      0               0   \n",
       "2496                       0                      0               0   \n",
       "2497                       0                      0               0   \n",
       "2498                       0                      0               0   \n",
       "2499                       0                      0               0   \n",
       "\n",
       "      Purpose_other  Purpose_renewable energy  Purpose_small business  \\\n",
       "2495              0                         0                       0   \n",
       "2496              0                         0                       0   \n",
       "2497              0                         0                       0   \n",
       "2498              0                         0                       0   \n",
       "2499              0                         0                       0   \n",
       "\n",
       "      Purpose_take a trip  Purpose_vacation  Purpose_wedding  Term_Short Term  \n",
       "2495                    0                 0                0                1  \n",
       "2496                    0                 0                0                1  \n",
       "2497                    0                 0                0                1  \n",
       "2498                    0                 0                0                1  \n",
       "2499                    0                 0                0                0  "
      ]
     },
     "execution_count": 37,
     "metadata": {},
     "output_type": "execute_result"
    }
   ],
   "source": [
    "data_mod.tail()"
   ]
  },
  {
   "cell_type": "code",
   "execution_count": 38,
   "metadata": {},
   "outputs": [
    {
     "name": "stdout",
     "output_type": "stream",
     "text": [
      "(7500, 42)\n",
      "(2500, 42)\n"
     ]
    }
   ],
   "source": [
    "data_mod_train = data_mod[data_mod['Credit Default'].notnull()]\n",
    "data_mod_test = data_mod[data_mod['Credit Default'].isnull()]\n",
    "\n",
    "print(data_mod_train.shape)\n",
    "print(data_mod_test.shape)"
   ]
  },
  {
   "cell_type": "code",
   "execution_count": 39,
   "metadata": {},
   "outputs": [],
   "source": [
    "x = data_mod_train.drop(['Id','Credit Default'], axis = 1)\n",
    "y = data_mod_train['Credit Default']"
   ]
  },
  {
   "cell_type": "code",
   "execution_count": 40,
   "metadata": {},
   "outputs": [],
   "source": [
    "x_train, x_val, y_train, y_val = train_test_split(x, y, stratify=y, test_size = 0.3, random_state = 10)"
   ]
  },
  {
   "cell_type": "code",
   "execution_count": 41,
   "metadata": {
    "scrolled": true
   },
   "outputs": [
    {
     "name": "stdout",
     "output_type": "stream",
     "text": [
      "28.173 % is positive for target variable\n"
     ]
    }
   ],
   "source": [
    "print(f'{round(sum(y==1)/y.count()*100,3)} % is positive for target variable')"
   ]
  },
  {
   "cell_type": "markdown",
   "metadata": {},
   "source": [
    "### Scaling"
   ]
  },
  {
   "cell_type": "code",
   "execution_count": 42,
   "metadata": {},
   "outputs": [],
   "source": [
    "from sklearn.preprocessing import StandardScaler\n",
    "Scaler_x = StandardScaler()\n",
    "x_train = Scaler_x.fit_transform(x_train)\n",
    "x_val = Scaler_x.transform(x_val)"
   ]
  },
  {
   "cell_type": "markdown",
   "metadata": {},
   "source": [
    "# Model Building"
   ]
  },
  {
   "cell_type": "code",
   "execution_count": 43,
   "metadata": {},
   "outputs": [],
   "source": [
    "# Result Collection List\n",
    "model = list()\n",
    "resample = list()\n",
    "precision = list()\n",
    "recall = list()\n",
    "F1score = list()\n",
    "AUCROC = list()\n",
    "accuracy = list()"
   ]
  },
  {
   "cell_type": "code",
   "execution_count": 44,
   "metadata": {},
   "outputs": [],
   "source": [
    "# Function for appending data into corresponding list\n",
    "def test_eval(clf_model, x_val, y_val, algo=None, sampling=None):\n",
    "    # Test set prediction\n",
    "    y_prob=clf_model.predict_proba(x_val)\n",
    "    y_pred=clf_model.predict(x_val)\n",
    "\n",
    "    print('Confusion Matrix')\n",
    "    print('='*60)\n",
    "    print(confusion_matrix(y_val,y_pred),\"\\n\")\n",
    "    print('Classification Report')\n",
    "    print('='*60)\n",
    "    print(classification_report(y_val,y_pred),\"\\n\")\n",
    "    print('AUC-ROC')\n",
    "    print('='*60)\n",
    "    print(roc_auc_score(y_val, y_prob[:,1]))\n",
    "          \n",
    "    model.append(algo)\n",
    "    accuracy.append(accuracy_score(y_val,y_pred))\n",
    "    precision.append(precision_score(y_val,y_pred))\n",
    "    recall.append(recall_score(y_val,y_pred))\n",
    "    F1score.append(f1_score(y_val,y_pred))\n",
    "    AUCROC.append(roc_auc_score(y_val, y_prob[:,1]))\n",
    "    resample.append(sampling)"
   ]
  },
  {
   "cell_type": "code",
   "execution_count": 45,
   "metadata": {},
   "outputs": [],
   "source": [
    "# 10-fold Cross validation object\n",
    "cv = StratifiedKFold(n_splits=10, random_state=42, shuffle=True)"
   ]
  },
  {
   "cell_type": "markdown",
   "metadata": {},
   "source": [
    "## Logistic Regression"
   ]
  },
  {
   "cell_type": "code",
   "execution_count": 207,
   "metadata": {
    "scrolled": true
   },
   "outputs": [
    {
     "name": "stderr",
     "output_type": "stream",
     "text": [
      "C:\\Users\\User\\anaconda3\\lib\\site-packages\\sklearn\\linear_model\\_logistic.py:762: ConvergenceWarning: lbfgs failed to converge (status=1):\n",
      "STOP: TOTAL NO. of ITERATIONS REACHED LIMIT.\n",
      "\n",
      "Increase the number of iterations (max_iter) or scale the data as shown in:\n",
      "    https://scikit-learn.org/stable/modules/preprocessing.html\n",
      "Please also refer to the documentation for alternative solver options:\n",
      "    https://scikit-learn.org/stable/modules/linear_model.html#logistic-regression\n",
      "  n_iter_i = _check_optimize_result(\n"
     ]
    },
    {
     "data": {
      "text/plain": [
       "LogisticRegression(C=10.0, random_state=42)"
      ]
     },
     "execution_count": 207,
     "metadata": {},
     "output_type": "execute_result"
    }
   ],
   "source": [
    "log_model=LogisticRegression(random_state=42)\n",
    "\n",
    "params={'C':np.logspace(-10, 1, 15),'class_weight':[None,'balanced'],'penalty':['l1','l2']}\n",
    "\n",
    "# Create grid search using 10-fold cross validation\n",
    "clf_LR = GridSearchCV(log_model, params, cv=cv, scoring='roc_auc', n_jobs=-1)\n",
    "clf_LR.fit(x_train, y_train)\n",
    "clf_LR.best_estimator_"
   ]
  },
  {
   "cell_type": "code",
   "execution_count": 208,
   "metadata": {
    "scrolled": true
   },
   "outputs": [
    {
     "name": "stdout",
     "output_type": "stream",
     "text": [
      "Confusion Matrix\n",
      "============================================================\n",
      "[[1575   41]\n",
      " [ 462  172]] \n",
      "\n",
      "Classification Report\n",
      "============================================================\n",
      "              precision    recall  f1-score   support\n",
      "\n",
      "         0.0       0.77      0.97      0.86      1616\n",
      "         1.0       0.81      0.27      0.41       634\n",
      "\n",
      "    accuracy                           0.78      2250\n",
      "   macro avg       0.79      0.62      0.63      2250\n",
      "weighted avg       0.78      0.78      0.73      2250\n",
      " \n",
      "\n",
      "AUC-ROC\n",
      "============================================================\n",
      "0.7563520941999562\n"
     ]
    }
   ],
   "source": [
    "test_eval(clf_LR, x_val, y_val, 'Logistic Regression', 'Actual')"
   ]
  },
  {
   "cell_type": "markdown",
   "metadata": {},
   "source": [
    "## Decision Tree"
   ]
  },
  {
   "cell_type": "code",
   "execution_count": 209,
   "metadata": {},
   "outputs": [],
   "source": [
    "estimators = [2,10,30,50,100]\n",
    "# Maximum number of depth in each tree:\n",
    "max_depth = [i for i in range(5,16,2)]\n",
    "# Minimum number of samples to consider to split a node:\n",
    "min_samples_split = [2, 5, 10, 15, 20, 50, 100]\n",
    "# Minimum number of samples to consider at each leaf node:\n",
    "min_samples_leaf = [1, 2, 5]"
   ]
  },
  {
   "cell_type": "code",
   "execution_count": 210,
   "metadata": {},
   "outputs": [
    {
     "name": "stderr",
     "output_type": "stream",
     "text": [
      "[Parallel(n_jobs=-1)]: Using backend LokyBackend with 8 concurrent workers.\n"
     ]
    },
    {
     "name": "stdout",
     "output_type": "stream",
     "text": [
      "Fitting 10 folds for each of 10 candidates, totalling 100 fits\n"
     ]
    },
    {
     "name": "stderr",
     "output_type": "stream",
     "text": [
      "[Parallel(n_jobs=-1)]: Done  34 tasks      | elapsed:    0.3s\n",
      "[Parallel(n_jobs=-1)]: Done 100 out of 100 | elapsed:    0.9s finished\n"
     ]
    },
    {
     "data": {
      "text/plain": [
       "DecisionTreeClassifier(max_depth=5, min_samples_leaf=5, min_samples_split=50,\n",
       "                       random_state=42)"
      ]
     },
     "execution_count": 210,
     "metadata": {},
     "output_type": "execute_result"
    }
   ],
   "source": [
    "tree_model = DecisionTreeClassifier(random_state=42)\n",
    "\n",
    "tree_param_grid = { \n",
    "    'max_depth': max_depth,\n",
    "    'min_samples_split': min_samples_split,\n",
    "    'min_samples_leaf': min_samples_leaf\n",
    "}\n",
    "\n",
    "clf_DT = RandomizedSearchCV(tree_model, tree_param_grid, cv=cv, scoring='roc_auc', n_jobs=-1, verbose=2, random_state=42)\n",
    "clf_DT.fit(x_train, y_train)\n",
    "clf_DT.best_estimator_"
   ]
  },
  {
   "cell_type": "code",
   "execution_count": 211,
   "metadata": {
    "scrolled": true
   },
   "outputs": [
    {
     "name": "stdout",
     "output_type": "stream",
     "text": [
      "Confusion Matrix\n",
      "============================================================\n",
      "[[1546   70]\n",
      " [ 441  193]] \n",
      "\n",
      "Classification Report\n",
      "============================================================\n",
      "              precision    recall  f1-score   support\n",
      "\n",
      "         0.0       0.78      0.96      0.86      1616\n",
      "         1.0       0.73      0.30      0.43       634\n",
      "\n",
      "    accuracy                           0.77      2250\n",
      "   macro avg       0.76      0.63      0.64      2250\n",
      "weighted avg       0.77      0.77      0.74      2250\n",
      " \n",
      "\n",
      "AUC-ROC\n",
      "============================================================\n",
      "0.7409745213480339\n"
     ]
    }
   ],
   "source": [
    "test_eval(clf_DT, x_val, y_val, 'Decision Tree', 'Actual')"
   ]
  },
  {
   "cell_type": "markdown",
   "metadata": {},
   "source": [
    "## Random Forest"
   ]
  },
  {
   "cell_type": "code",
   "execution_count": 212,
   "metadata": {},
   "outputs": [
    {
     "name": "stdout",
     "output_type": "stream",
     "text": [
      "Fitting 10 folds for each of 20 candidates, totalling 200 fits\n"
     ]
    },
    {
     "name": "stderr",
     "output_type": "stream",
     "text": [
      "[Parallel(n_jobs=-1)]: Using backend LokyBackend with 8 concurrent workers.\n",
      "[Parallel(n_jobs=-1)]: Done  34 tasks      | elapsed:    2.4s\n",
      "[Parallel(n_jobs=-1)]: Done 200 out of 200 | elapsed:    9.8s finished\n"
     ]
    },
    {
     "data": {
      "text/plain": [
       "RandomForestClassifier(max_depth=9, min_samples_split=10, random_state=42)"
      ]
     },
     "execution_count": 212,
     "metadata": {},
     "output_type": "execute_result"
    }
   ],
   "source": [
    "rf_model = RandomForestClassifier(random_state=42)\n",
    "\n",
    "rf_params={'n_estimators':estimators,\n",
    "           'max_depth':max_depth,\n",
    "           'min_samples_split':min_samples_split}\n",
    "\n",
    "clf_RF = RandomizedSearchCV(rf_model, rf_params, cv=cv, scoring='roc_auc', n_jobs=-1, n_iter=20, verbose=2, random_state=42)\n",
    "clf_RF.fit(x_train, y_train)\n",
    "clf_RF.best_estimator_"
   ]
  },
  {
   "cell_type": "code",
   "execution_count": 213,
   "metadata": {
    "scrolled": true
   },
   "outputs": [
    {
     "name": "stdout",
     "output_type": "stream",
     "text": [
      "Confusion Matrix\n",
      "============================================================\n",
      "[[1614    2]\n",
      " [ 508  126]] \n",
      "\n",
      "Classification Report\n",
      "============================================================\n",
      "              precision    recall  f1-score   support\n",
      "\n",
      "         0.0       0.76      1.00      0.86      1616\n",
      "         1.0       0.98      0.20      0.33       634\n",
      "\n",
      "    accuracy                           0.77      2250\n",
      "   macro avg       0.87      0.60      0.60      2250\n",
      "weighted avg       0.82      0.77      0.71      2250\n",
      " \n",
      "\n",
      "AUC-ROC\n",
      "============================================================\n",
      "0.7624064949870382\n"
     ]
    }
   ],
   "source": [
    "test_eval(clf_RF, x_val, y_val, 'Random Forest', 'Actual')"
   ]
  },
  {
   "cell_type": "markdown",
   "metadata": {},
   "source": [
    "## XGBoost"
   ]
  },
  {
   "cell_type": "code",
   "execution_count": 214,
   "metadata": {},
   "outputs": [
    {
     "name": "stdout",
     "output_type": "stream",
     "text": [
      "Fitting 10 folds for each of 20 candidates, totalling 200 fits\n"
     ]
    },
    {
     "name": "stderr",
     "output_type": "stream",
     "text": [
      "[Parallel(n_jobs=-1)]: Using backend LokyBackend with 8 concurrent workers.\n",
      "[Parallel(n_jobs=-1)]: Done  25 tasks      | elapsed:    6.3s\n",
      "[Parallel(n_jobs=-1)]: Done 146 tasks      | elapsed:   38.4s\n",
      "[Parallel(n_jobs=-1)]: Done 200 out of 200 | elapsed:   50.8s finished\n",
      "C:\\Users\\User\\anaconda3\\lib\\site-packages\\xgboost\\sklearn.py:888: UserWarning: The use of label encoder in XGBClassifier is deprecated and will be removed in a future release. To remove this warning, do the following: 1) Pass option use_label_encoder=False when constructing XGBClassifier object; and 2) Encode your labels (y) as integers starting with 0, i.e. 0, 1, 2, ..., [num_class - 1].\n",
      "  warnings.warn(label_encoder_deprecation_msg, UserWarning)\n"
     ]
    },
    {
     "name": "stdout",
     "output_type": "stream",
     "text": [
      "[02:39:38] WARNING: C:/Users/Administrator/workspace/xgboost-win64_release_1.3.0/src/learner.cc:1061: Starting in XGBoost 1.3.0, the default evaluation metric used with the objective 'binary:logistic' was changed from 'error' to 'logloss'. Explicitly set eval_metric if you'd like to restore the old behavior.\n"
     ]
    },
    {
     "data": {
      "text/plain": [
       "XGBClassifier(base_score=0.5, booster='gbtree', colsample_bylevel=1,\n",
       "              colsample_bynode=1, colsample_bytree=0.8, gamma=2, gpu_id=-1,\n",
       "              importance_type='gain', interaction_constraints='',\n",
       "              learning_rate=0.300000012, max_delta_step=0, max_depth=3,\n",
       "              min_child_weight=1, missing=nan, monotone_constraints='()',\n",
       "              n_estimators=100, n_jobs=8, num_parallel_tree=1, random_state=42,\n",
       "              reg_alpha=0, reg_lambda=1, scale_pos_weight=1, subsample=1.0,\n",
       "              tree_method='exact', validate_parameters=1, verbosity=None)"
      ]
     },
     "execution_count": 214,
     "metadata": {},
     "output_type": "execute_result"
    }
   ],
   "source": [
    "classifier_XGB = XGBClassifier(random_state=42)\n",
    "\n",
    "params = {\n",
    "        'min_child_weight': [1, 5, 10],\n",
    "        'gamma': [0.5, 1, 1.5, 2, 5],\n",
    "        'subsample': [0.6, 0.8, 1.0],\n",
    "        'colsample_bytree': [0.6, 0.8, 1.0],\n",
    "        'max_depth': [3, 4, 5]\n",
    "        }\n",
    "\n",
    "clf_XGB = RandomizedSearchCV(classifier_XGB, param_distributions=params, n_iter=20, scoring='roc_auc', \n",
    "                                   n_jobs=-1, cv=cv, verbose=2, random_state=42)\n",
    "clf_XGB.fit(x_train, y_train)\n",
    "clf_XGB.best_estimator_"
   ]
  },
  {
   "cell_type": "code",
   "execution_count": 215,
   "metadata": {
    "scrolled": true
   },
   "outputs": [
    {
     "name": "stdout",
     "output_type": "stream",
     "text": [
      "Confusion Matrix\n",
      "============================================================\n",
      "[[1555   61]\n",
      " [ 447  187]] \n",
      "\n",
      "Classification Report\n",
      "============================================================\n",
      "              precision    recall  f1-score   support\n",
      "\n",
      "         0.0       0.78      0.96      0.86      1616\n",
      "         1.0       0.75      0.29      0.42       634\n",
      "\n",
      "    accuracy                           0.77      2250\n",
      "   macro avg       0.77      0.63      0.64      2250\n",
      "weighted avg       0.77      0.77      0.74      2250\n",
      " \n",
      "\n",
      "AUC-ROC\n",
      "============================================================\n",
      "0.7633166559952524\n"
     ]
    }
   ],
   "source": [
    "test_eval(clf_XGB, x_val, y_val, 'XGBoost', 'Actual')"
   ]
  },
  {
   "cell_type": "markdown",
   "metadata": {},
   "source": [
    "## LightGBM"
   ]
  },
  {
   "cell_type": "code",
   "execution_count": 216,
   "metadata": {
    "scrolled": true
   },
   "outputs": [
    {
     "name": "stdout",
     "output_type": "stream",
     "text": [
      "Fitting 10 folds for each of 20 candidates, totalling 200 fits\n"
     ]
    },
    {
     "name": "stderr",
     "output_type": "stream",
     "text": [
      "[Parallel(n_jobs=-1)]: Using backend LokyBackend with 8 concurrent workers.\n",
      "[Parallel(n_jobs=-1)]: Done  25 tasks      | elapsed:   17.9s\n",
      "[Parallel(n_jobs=-1)]: Done 146 tasks      | elapsed:  1.6min\n",
      "[Parallel(n_jobs=-1)]: Done 200 out of 200 | elapsed:  2.2min finished\n"
     ]
    },
    {
     "data": {
      "text/plain": [
       "LGBMClassifier(max_depth=20, min_split_gain=0.3, n_estimators=5000,\n",
       "               num_leaves=1000, random_state=42, reg_alpha=1.0, reg_lambda=1.1,\n",
       "               subsample=0.9, subsample_freq=20)"
      ]
     },
     "execution_count": 216,
     "metadata": {},
     "output_type": "execute_result"
    }
   ],
   "source": [
    "classifier_LGBM = LGBMClassifier(random_state=42)\n",
    "\n",
    "params = {\n",
    "        'n_estimators': [400, 700, 1000, 5000],\n",
    "        'colsample_bytree': [0.7, 0.8, 1.0],\n",
    "        'max_depth': [15,20,25],\n",
    "        'num_leaves': [50, 100, 200, 500, 1000],\n",
    "        'reg_alpha': [1.0, 1.1, 1.2],\n",
    "        'reg_lambda': [1.0, 1.1, 1.2],\n",
    "        'min_split_gain': [0.2, 0.3, 0.4],\n",
    "        'subsample': [0.7, 0.8, 0.9],\n",
    "        'subsample_freq': [20, 30, 40]\n",
    "        }\n",
    "\n",
    "clf_LGBM = RandomizedSearchCV(classifier_LGBM, param_distributions=params, n_iter=20, scoring='roc_auc', \n",
    "                                   n_jobs=-1, cv=cv, verbose=2, random_state=42)\n",
    "clf_LGBM.fit(x_train, y_train)\n",
    "clf_LGBM.best_estimator_"
   ]
  },
  {
   "cell_type": "code",
   "execution_count": 217,
   "metadata": {
    "scrolled": true
   },
   "outputs": [
    {
     "name": "stdout",
     "output_type": "stream",
     "text": [
      "Confusion Matrix\n",
      "============================================================\n",
      "[[1493  123]\n",
      " [ 402  232]] \n",
      "\n",
      "Classification Report\n",
      "============================================================\n",
      "              precision    recall  f1-score   support\n",
      "\n",
      "         0.0       0.79      0.92      0.85      1616\n",
      "         1.0       0.65      0.37      0.47       634\n",
      "\n",
      "    accuracy                           0.77      2250\n",
      "   macro avg       0.72      0.64      0.66      2250\n",
      "weighted avg       0.75      0.77      0.74      2250\n",
      " \n",
      "\n",
      "AUC-ROC\n",
      "============================================================\n",
      "0.7534815488646657\n"
     ]
    }
   ],
   "source": [
    "test_eval(clf_LGBM, x_val, y_val, 'LGBM', 'Actual')"
   ]
  },
  {
   "cell_type": "markdown",
   "metadata": {},
   "source": [
    "## CatBoost"
   ]
  },
  {
   "cell_type": "code",
   "execution_count": 218,
   "metadata": {},
   "outputs": [
    {
     "name": "stdout",
     "output_type": "stream",
     "text": [
      "Fitting 10 folds for each of 20 candidates, totalling 200 fits\n"
     ]
    },
    {
     "name": "stderr",
     "output_type": "stream",
     "text": [
      "[Parallel(n_jobs=-1)]: Using backend LokyBackend with 8 concurrent workers.\n",
      "[Parallel(n_jobs=-1)]: Done  25 tasks      | elapsed:    9.5s\n",
      "[Parallel(n_jobs=-1)]: Done 146 tasks      | elapsed:   58.0s\n",
      "[Parallel(n_jobs=-1)]: Done 200 out of 200 | elapsed:  1.2min finished\n"
     ]
    },
    {
     "name": "stdout",
     "output_type": "stream",
     "text": [
      "0:\tlearn: 0.6739156\ttotal: 10.6ms\tremaining: 941ms\n",
      "1:\tlearn: 0.6533294\ttotal: 20.3ms\tremaining: 895ms\n",
      "2:\tlearn: 0.6396793\ttotal: 30ms\tremaining: 870ms\n",
      "3:\tlearn: 0.6261377\ttotal: 39.6ms\tremaining: 851ms\n",
      "4:\tlearn: 0.6097291\ttotal: 49.2ms\tremaining: 836ms\n",
      "5:\tlearn: 0.5959906\ttotal: 58.6ms\tremaining: 821ms\n",
      "6:\tlearn: 0.5838223\ttotal: 68.6ms\tremaining: 813ms\n",
      "7:\tlearn: 0.5754550\ttotal: 78.7ms\tremaining: 806ms\n",
      "8:\tlearn: 0.5639879\ttotal: 88.8ms\tremaining: 799ms\n",
      "9:\tlearn: 0.5577594\ttotal: 101ms\tremaining: 808ms\n",
      "10:\tlearn: 0.5507305\ttotal: 119ms\tremaining: 858ms\n",
      "11:\tlearn: 0.5454754\ttotal: 136ms\tremaining: 887ms\n",
      "12:\tlearn: 0.5403553\ttotal: 159ms\tremaining: 942ms\n",
      "13:\tlearn: 0.5359066\ttotal: 182ms\tremaining: 987ms\n",
      "14:\tlearn: 0.5324012\ttotal: 197ms\tremaining: 985ms\n",
      "15:\tlearn: 0.5288045\ttotal: 221ms\tremaining: 1.02s\n",
      "16:\tlearn: 0.5249265\ttotal: 241ms\tremaining: 1.03s\n",
      "17:\tlearn: 0.5202829\ttotal: 253ms\tremaining: 1.01s\n",
      "18:\tlearn: 0.5173825\ttotal: 265ms\tremaining: 991ms\n",
      "19:\tlearn: 0.5153357\ttotal: 276ms\tremaining: 966ms\n",
      "20:\tlearn: 0.5126831\ttotal: 287ms\tremaining: 943ms\n",
      "21:\tlearn: 0.5098966\ttotal: 297ms\tremaining: 918ms\n",
      "22:\tlearn: 0.5074905\ttotal: 308ms\tremaining: 896ms\n",
      "23:\tlearn: 0.5033436\ttotal: 318ms\tremaining: 875ms\n",
      "24:\tlearn: 0.5012342\ttotal: 331ms\tremaining: 860ms\n",
      "25:\tlearn: 0.4999192\ttotal: 341ms\tremaining: 840ms\n",
      "26:\tlearn: 0.4976882\ttotal: 352ms\tremaining: 822ms\n",
      "27:\tlearn: 0.4948972\ttotal: 363ms\tremaining: 803ms\n",
      "28:\tlearn: 0.4938035\ttotal: 374ms\tremaining: 786ms\n",
      "29:\tlearn: 0.4924934\ttotal: 385ms\tremaining: 771ms\n",
      "30:\tlearn: 0.4907771\ttotal: 401ms\tremaining: 763ms\n",
      "31:\tlearn: 0.4890188\ttotal: 412ms\tremaining: 747ms\n",
      "32:\tlearn: 0.4862812\ttotal: 425ms\tremaining: 734ms\n",
      "33:\tlearn: 0.4851320\ttotal: 435ms\tremaining: 716ms\n",
      "34:\tlearn: 0.4840862\ttotal: 445ms\tremaining: 699ms\n",
      "35:\tlearn: 0.4831602\ttotal: 456ms\tremaining: 683ms\n",
      "36:\tlearn: 0.4811754\ttotal: 466ms\tremaining: 668ms\n",
      "37:\tlearn: 0.4804882\ttotal: 477ms\tremaining: 653ms\n",
      "38:\tlearn: 0.4789328\ttotal: 488ms\tremaining: 638ms\n",
      "39:\tlearn: 0.4775031\ttotal: 499ms\tremaining: 623ms\n",
      "40:\tlearn: 0.4760180\ttotal: 510ms\tremaining: 609ms\n",
      "41:\tlearn: 0.4753755\ttotal: 519ms\tremaining: 594ms\n",
      "42:\tlearn: 0.4742855\ttotal: 531ms\tremaining: 580ms\n",
      "43:\tlearn: 0.4731072\ttotal: 541ms\tremaining: 566ms\n",
      "44:\tlearn: 0.4724977\ttotal: 552ms\tremaining: 552ms\n",
      "45:\tlearn: 0.4720697\ttotal: 563ms\tremaining: 539ms\n",
      "46:\tlearn: 0.4715106\ttotal: 574ms\tremaining: 525ms\n",
      "47:\tlearn: 0.4709455\ttotal: 585ms\tremaining: 511ms\n",
      "48:\tlearn: 0.4705433\ttotal: 594ms\tremaining: 497ms\n",
      "49:\tlearn: 0.4694219\ttotal: 604ms\tremaining: 483ms\n",
      "50:\tlearn: 0.4682001\ttotal: 616ms\tremaining: 471ms\n",
      "51:\tlearn: 0.4666861\ttotal: 627ms\tremaining: 458ms\n",
      "52:\tlearn: 0.4660782\ttotal: 637ms\tremaining: 445ms\n",
      "53:\tlearn: 0.4647217\ttotal: 648ms\tremaining: 432ms\n",
      "54:\tlearn: 0.4639312\ttotal: 658ms\tremaining: 419ms\n",
      "55:\tlearn: 0.4629669\ttotal: 669ms\tremaining: 406ms\n",
      "56:\tlearn: 0.4616441\ttotal: 680ms\tremaining: 394ms\n",
      "57:\tlearn: 0.4609813\ttotal: 691ms\tremaining: 381ms\n",
      "58:\tlearn: 0.4602522\ttotal: 701ms\tremaining: 368ms\n",
      "59:\tlearn: 0.4596579\ttotal: 711ms\tremaining: 356ms\n",
      "60:\tlearn: 0.4586213\ttotal: 721ms\tremaining: 343ms\n",
      "61:\tlearn: 0.4580025\ttotal: 731ms\tremaining: 330ms\n",
      "62:\tlearn: 0.4570368\ttotal: 742ms\tremaining: 318ms\n",
      "63:\tlearn: 0.4562436\ttotal: 752ms\tremaining: 306ms\n",
      "64:\tlearn: 0.4553952\ttotal: 762ms\tremaining: 293ms\n",
      "65:\tlearn: 0.4544361\ttotal: 772ms\tremaining: 281ms\n",
      "66:\tlearn: 0.4537912\ttotal: 782ms\tremaining: 269ms\n",
      "67:\tlearn: 0.4529808\ttotal: 792ms\tremaining: 256ms\n",
      "68:\tlearn: 0.4525664\ttotal: 802ms\tremaining: 244ms\n",
      "69:\tlearn: 0.4516542\ttotal: 812ms\tremaining: 232ms\n",
      "70:\tlearn: 0.4511294\ttotal: 824ms\tremaining: 220ms\n",
      "71:\tlearn: 0.4506943\ttotal: 834ms\tremaining: 208ms\n",
      "72:\tlearn: 0.4500787\ttotal: 845ms\tremaining: 197ms\n",
      "73:\tlearn: 0.4492658\ttotal: 856ms\tremaining: 185ms\n",
      "74:\tlearn: 0.4488757\ttotal: 866ms\tremaining: 173ms\n",
      "75:\tlearn: 0.4479958\ttotal: 876ms\tremaining: 161ms\n",
      "76:\tlearn: 0.4469743\ttotal: 886ms\tremaining: 150ms\n",
      "77:\tlearn: 0.4461489\ttotal: 896ms\tremaining: 138ms\n",
      "78:\tlearn: 0.4454590\ttotal: 908ms\tremaining: 126ms\n",
      "79:\tlearn: 0.4447778\ttotal: 918ms\tremaining: 115ms\n",
      "80:\tlearn: 0.4439814\ttotal: 930ms\tremaining: 103ms\n",
      "81:\tlearn: 0.4436897\ttotal: 940ms\tremaining: 91.7ms\n",
      "82:\tlearn: 0.4430968\ttotal: 950ms\tremaining: 80.1ms\n",
      "83:\tlearn: 0.4425074\ttotal: 961ms\tremaining: 68.6ms\n",
      "84:\tlearn: 0.4419178\ttotal: 971ms\tremaining: 57.1ms\n",
      "85:\tlearn: 0.4415003\ttotal: 981ms\tremaining: 45.6ms\n",
      "86:\tlearn: 0.4410116\ttotal: 992ms\tremaining: 34.2ms\n",
      "87:\tlearn: 0.4402410\ttotal: 1s\tremaining: 22.8ms\n",
      "88:\tlearn: 0.4396030\ttotal: 1.01s\tremaining: 11.4ms\n",
      "89:\tlearn: 0.4389840\ttotal: 1.02s\tremaining: 0us\n"
     ]
    },
    {
     "data": {
      "text/plain": [
       "<catboost.core.CatBoostClassifier at 0x12b52c23df0>"
      ]
     },
     "execution_count": 218,
     "metadata": {},
     "output_type": "execute_result"
    }
   ],
   "source": [
    "classifier_CBC = CatBoostClassifier(random_state=42)\n",
    "\n",
    "params = {\n",
    "    'depth' : [4,5,6,7,8,9, 10],\n",
    "    'learning_rate' : [0.01,0.02,0.03,0.04],\n",
    "    'iterations' : [10, 20,30,40,50,60,70,80,90, 100]}\n",
    "\n",
    "clf_CBC = RandomizedSearchCV(classifier_CBC, param_distributions=params, n_iter=20, scoring='roc_auc', \n",
    "                                   n_jobs=-1, cv=cv, verbose=2, random_state=42)\n",
    "clf_CBC.fit(x_train, y_train)\n",
    "clf_CBC.best_estimator_"
   ]
  },
  {
   "cell_type": "code",
   "execution_count": 219,
   "metadata": {
    "scrolled": false
   },
   "outputs": [
    {
     "name": "stdout",
     "output_type": "stream",
     "text": [
      "Confusion Matrix\n",
      "============================================================\n",
      "[[1610    6]\n",
      " [ 499  135]] \n",
      "\n",
      "Classification Report\n",
      "============================================================\n",
      "              precision    recall  f1-score   support\n",
      "\n",
      "         0.0       0.76      1.00      0.86      1616\n",
      "         1.0       0.96      0.21      0.35       634\n",
      "\n",
      "    accuracy                           0.78      2250\n",
      "   macro avg       0.86      0.60      0.61      2250\n",
      "weighted avg       0.82      0.78      0.72      2250\n",
      " \n",
      "\n",
      "AUC-ROC\n",
      "============================================================\n",
      "0.7667284177155886\n"
     ]
    }
   ],
   "source": [
    "test_eval(clf_CBC, x_val, y_val, 'CatBoost', 'Actual')"
   ]
  },
  {
   "cell_type": "markdown",
   "metadata": {},
   "source": [
    "### Champion Model"
   ]
  },
  {
   "cell_type": "code",
   "execution_count": 220,
   "metadata": {},
   "outputs": [
    {
     "data": {
      "text/plain": [
       "{'learning_rate': 0.04, 'iterations': 90, 'depth': 7}"
      ]
     },
     "execution_count": 220,
     "metadata": {},
     "output_type": "execute_result"
    }
   ],
   "source": [
    "clf_CBC.best_params_"
   ]
  },
  {
   "cell_type": "code",
   "execution_count": 221,
   "metadata": {},
   "outputs": [],
   "source": [
    "classifier_CBC = CatBoostClassifier(learning_rate=0.04, iterations=90, depth=7)"
   ]
  },
  {
   "cell_type": "code",
   "execution_count": 222,
   "metadata": {},
   "outputs": [
    {
     "name": "stdout",
     "output_type": "stream",
     "text": [
      "0:\tlearn: 0.6733880\ttotal: 7.64ms\tremaining: 680ms\n",
      "1:\tlearn: 0.6558903\ttotal: 12.3ms\tremaining: 540ms\n",
      "2:\tlearn: 0.6403466\ttotal: 16.6ms\tremaining: 483ms\n",
      "3:\tlearn: 0.6265372\ttotal: 21.3ms\tremaining: 457ms\n",
      "4:\tlearn: 0.6115617\ttotal: 26.5ms\tremaining: 451ms\n",
      "5:\tlearn: 0.5957242\ttotal: 31.2ms\tremaining: 437ms\n",
      "6:\tlearn: 0.5836545\ttotal: 35.1ms\tremaining: 416ms\n",
      "7:\tlearn: 0.5749087\ttotal: 38.9ms\tremaining: 399ms\n",
      "8:\tlearn: 0.5673080\ttotal: 51ms\tremaining: 459ms\n",
      "9:\tlearn: 0.5607431\ttotal: 54.7ms\tremaining: 438ms\n",
      "10:\tlearn: 0.5514264\ttotal: 58.5ms\tremaining: 420ms\n",
      "11:\tlearn: 0.5427872\ttotal: 62.3ms\tremaining: 405ms\n",
      "12:\tlearn: 0.5379952\ttotal: 66.4ms\tremaining: 394ms\n",
      "13:\tlearn: 0.5309137\ttotal: 70.3ms\tremaining: 382ms\n",
      "14:\tlearn: 0.5264516\ttotal: 74.1ms\tremaining: 371ms\n",
      "15:\tlearn: 0.5226123\ttotal: 78ms\tremaining: 361ms\n",
      "16:\tlearn: 0.5185136\ttotal: 81.8ms\tremaining: 351ms\n",
      "17:\tlearn: 0.5157872\ttotal: 85.7ms\tremaining: 343ms\n",
      "18:\tlearn: 0.5129167\ttotal: 91.6ms\tremaining: 342ms\n",
      "19:\tlearn: 0.5105772\ttotal: 95.6ms\tremaining: 334ms\n",
      "20:\tlearn: 0.5065742\ttotal: 99.5ms\tremaining: 327ms\n",
      "21:\tlearn: 0.5048958\ttotal: 103ms\tremaining: 320ms\n",
      "22:\tlearn: 0.5009243\ttotal: 107ms\tremaining: 313ms\n",
      "23:\tlearn: 0.4993092\ttotal: 111ms\tremaining: 306ms\n",
      "24:\tlearn: 0.4981419\ttotal: 115ms\tremaining: 299ms\n",
      "25:\tlearn: 0.4966669\ttotal: 119ms\tremaining: 293ms\n",
      "26:\tlearn: 0.4944926\ttotal: 123ms\tremaining: 287ms\n",
      "27:\tlearn: 0.4932966\ttotal: 127ms\tremaining: 281ms\n",
      "28:\tlearn: 0.4912977\ttotal: 131ms\tremaining: 275ms\n",
      "29:\tlearn: 0.4898082\ttotal: 135ms\tremaining: 271ms\n",
      "30:\tlearn: 0.4886593\ttotal: 139ms\tremaining: 265ms\n",
      "31:\tlearn: 0.4872231\ttotal: 143ms\tremaining: 260ms\n",
      "32:\tlearn: 0.4861644\ttotal: 147ms\tremaining: 254ms\n",
      "33:\tlearn: 0.4828996\ttotal: 151ms\tremaining: 249ms\n",
      "34:\tlearn: 0.4816213\ttotal: 155ms\tremaining: 244ms\n",
      "35:\tlearn: 0.4801189\ttotal: 159ms\tremaining: 238ms\n",
      "36:\tlearn: 0.4790239\ttotal: 164ms\tremaining: 235ms\n",
      "37:\tlearn: 0.4778274\ttotal: 169ms\tremaining: 232ms\n",
      "38:\tlearn: 0.4759676\ttotal: 174ms\tremaining: 227ms\n",
      "39:\tlearn: 0.4744973\ttotal: 178ms\tremaining: 223ms\n",
      "40:\tlearn: 0.4742247\ttotal: 181ms\tremaining: 216ms\n",
      "41:\tlearn: 0.4730593\ttotal: 185ms\tremaining: 211ms\n",
      "42:\tlearn: 0.4715909\ttotal: 191ms\tremaining: 208ms\n",
      "43:\tlearn: 0.4699920\ttotal: 195ms\tremaining: 204ms\n",
      "44:\tlearn: 0.4688977\ttotal: 200ms\tremaining: 200ms\n",
      "45:\tlearn: 0.4676825\ttotal: 205ms\tremaining: 196ms\n",
      "46:\tlearn: 0.4665894\ttotal: 209ms\tremaining: 191ms\n",
      "47:\tlearn: 0.4661152\ttotal: 213ms\tremaining: 186ms\n",
      "48:\tlearn: 0.4653342\ttotal: 216ms\tremaining: 181ms\n",
      "49:\tlearn: 0.4646387\ttotal: 220ms\tremaining: 176ms\n",
      "50:\tlearn: 0.4640298\ttotal: 224ms\tremaining: 171ms\n",
      "51:\tlearn: 0.4635136\ttotal: 228ms\tremaining: 167ms\n",
      "52:\tlearn: 0.4629397\ttotal: 232ms\tremaining: 162ms\n",
      "53:\tlearn: 0.4622387\ttotal: 236ms\tremaining: 157ms\n",
      "54:\tlearn: 0.4618245\ttotal: 240ms\tremaining: 153ms\n",
      "55:\tlearn: 0.4612848\ttotal: 244ms\tremaining: 148ms\n",
      "56:\tlearn: 0.4601842\ttotal: 248ms\tremaining: 143ms\n",
      "57:\tlearn: 0.4596941\ttotal: 251ms\tremaining: 139ms\n",
      "58:\tlearn: 0.4590999\ttotal: 255ms\tremaining: 134ms\n",
      "59:\tlearn: 0.4584658\ttotal: 260ms\tremaining: 130ms\n",
      "60:\tlearn: 0.4574393\ttotal: 264ms\tremaining: 125ms\n",
      "61:\tlearn: 0.4569665\ttotal: 268ms\tremaining: 121ms\n",
      "62:\tlearn: 0.4564898\ttotal: 271ms\tremaining: 116ms\n",
      "63:\tlearn: 0.4556887\ttotal: 275ms\tremaining: 112ms\n",
      "64:\tlearn: 0.4549535\ttotal: 279ms\tremaining: 107ms\n",
      "65:\tlearn: 0.4541636\ttotal: 283ms\tremaining: 103ms\n",
      "66:\tlearn: 0.4530735\ttotal: 287ms\tremaining: 98.5ms\n",
      "67:\tlearn: 0.4526636\ttotal: 291ms\tremaining: 94.1ms\n",
      "68:\tlearn: 0.4519421\ttotal: 295ms\tremaining: 89.7ms\n",
      "69:\tlearn: 0.4513969\ttotal: 299ms\tremaining: 85.4ms\n",
      "70:\tlearn: 0.4508201\ttotal: 303ms\tremaining: 81ms\n",
      "71:\tlearn: 0.4498538\ttotal: 306ms\tremaining: 76.6ms\n",
      "72:\tlearn: 0.4493143\ttotal: 310ms\tremaining: 72.3ms\n",
      "73:\tlearn: 0.4488552\ttotal: 315ms\tremaining: 68ms\n",
      "74:\tlearn: 0.4481625\ttotal: 319ms\tremaining: 63.7ms\n",
      "75:\tlearn: 0.4476930\ttotal: 322ms\tremaining: 59.4ms\n",
      "76:\tlearn: 0.4469686\ttotal: 326ms\tremaining: 55ms\n",
      "77:\tlearn: 0.4464446\ttotal: 330ms\tremaining: 50.7ms\n",
      "78:\tlearn: 0.4458804\ttotal: 334ms\tremaining: 46.5ms\n",
      "79:\tlearn: 0.4454968\ttotal: 339ms\tremaining: 42.3ms\n",
      "80:\tlearn: 0.4445679\ttotal: 343ms\tremaining: 38.1ms\n",
      "81:\tlearn: 0.4438232\ttotal: 347ms\tremaining: 33.8ms\n",
      "82:\tlearn: 0.4434968\ttotal: 350ms\tremaining: 29.6ms\n",
      "83:\tlearn: 0.4430405\ttotal: 355ms\tremaining: 25.4ms\n",
      "84:\tlearn: 0.4426037\ttotal: 360ms\tremaining: 21.2ms\n",
      "85:\tlearn: 0.4420929\ttotal: 365ms\tremaining: 17ms\n",
      "86:\tlearn: 0.4412426\ttotal: 370ms\tremaining: 12.8ms\n",
      "87:\tlearn: 0.4407166\ttotal: 374ms\tremaining: 8.51ms\n",
      "88:\tlearn: 0.4403249\ttotal: 378ms\tremaining: 4.25ms\n",
      "89:\tlearn: 0.4399178\ttotal: 382ms\tremaining: 0us\n"
     ]
    },
    {
     "data": {
      "text/plain": [
       "<catboost.core.CatBoostClassifier at 0x12b52f131c0>"
      ]
     },
     "execution_count": 222,
     "metadata": {},
     "output_type": "execute_result"
    }
   ],
   "source": [
    "classifier_CBC.fit(x_train, y_train)"
   ]
  },
  {
   "cell_type": "code",
   "execution_count": 223,
   "metadata": {},
   "outputs": [],
   "source": [
    "# threshold moving \n",
    "y_scores = classifier_CBC.predict_proba(x_val)[:, 1]"
   ]
  },
  {
   "cell_type": "code",
   "execution_count": 224,
   "metadata": {},
   "outputs": [],
   "source": [
    "p, r, thresholds = precision_recall_curve(y_val, y_scores)"
   ]
  },
  {
   "cell_type": "code",
   "execution_count": 225,
   "metadata": {},
   "outputs": [],
   "source": [
    "def adjusted_classes(y_scores, t):\n",
    "    return [1 if y >= t else 0 for y in y_scores]"
   ]
  },
  {
   "cell_type": "code",
   "execution_count": 226,
   "metadata": {},
   "outputs": [],
   "source": [
    "t_arr = [0.5, 0.4, 0.3, 0.27, 0.269, 0.2683, 0.268, 0.2679]\n",
    "# try thresholds in decrements to reduce FN"
   ]
  },
  {
   "cell_type": "code",
   "execution_count": 227,
   "metadata": {},
   "outputs": [
    {
     "name": "stdout",
     "output_type": "stream",
     "text": [
      "[[1608    8]\n",
      " [ 494  140]]\n",
      "at t = 0.5, \n",
      "accuracy = 0.777\n",
      "precision = 0.946\n",
      "recall= 0.221\n",
      "f1= 0.358\n",
      "\n",
      "\n",
      "[[1509  107]\n",
      " [ 404  230]]\n",
      "at t = 0.4, \n",
      "accuracy = 0.773\n",
      "precision = 0.682\n",
      "recall= 0.363\n",
      "f1= 0.474\n",
      "\n",
      "\n",
      "[[1239  377]\n",
      " [ 269  365]]\n",
      "at t = 0.3, \n",
      "accuracy = 0.713\n",
      "precision = 0.492\n",
      "recall= 0.576\n",
      "f1= 0.531\n",
      "\n",
      "\n",
      "[[1078  538]\n",
      " [ 198  436]]\n",
      "at t = 0.27, \n",
      "accuracy = 0.673\n",
      "precision = 0.448\n",
      "recall= 0.688\n",
      "f1= 0.542\n",
      "\n",
      "\n",
      "[[1075  541]\n",
      " [ 194  440]]\n",
      "at t = 0.269, \n",
      "accuracy = 0.673\n",
      "precision = 0.449\n",
      "recall= 0.694\n",
      "f1= 0.545\n",
      "\n",
      "\n",
      "[[1072  544]\n",
      " [ 192  442]]\n",
      "at t = 0.2683, \n",
      "accuracy = 0.673\n",
      "precision = 0.448\n",
      "recall= 0.697\n",
      "f1= 0.546\n",
      "\n",
      "\n",
      "[[1071  545]\n",
      " [ 190  444]]\n",
      "at t = 0.268, \n",
      "accuracy = 0.673\n",
      "precision = 0.449\n",
      "recall= 0.7\n",
      "f1= 0.547\n",
      "\n",
      "\n",
      "[[1071  545]\n",
      " [ 190  444]]\n",
      "at t = 0.2679, \n",
      "accuracy = 0.673\n",
      "precision = 0.449\n",
      "recall= 0.7\n",
      "f1= 0.547\n",
      "\n",
      "\n"
     ]
    }
   ],
   "source": [
    "for t in t_arr:\n",
    "    y_pred_adj = adjusted_classes(y_scores, t)\n",
    "    print(confusion_matrix(y_val, y_pred_adj))\n",
    "    acc = accuracy_score(y_val, y_pred_adj)\n",
    "    pre = precision_score(y_val, y_pred_adj)\n",
    "    rec = recall_score(y_val, y_pred_adj)\n",
    "    f1 = f1_score(y_val,y_pred_adj)\n",
    "    print(f'at t = {t}, \\naccuracy = {round(acc,3)}\\nprecision = {round(pre,3)}\\nrecall= {round(rec,3)}\\nf1= {round(f1,3)}')\n",
    "    print('\\n')"
   ]
  },
  {
   "cell_type": "code",
   "execution_count": 228,
   "metadata": {},
   "outputs": [],
   "source": [
    "threshold = 0.268"
   ]
  },
  {
   "cell_type": "markdown",
   "metadata": {},
   "source": [
    "### Applying model on unseen data "
   ]
  },
  {
   "cell_type": "code",
   "execution_count": 229,
   "metadata": {
    "scrolled": false
   },
   "outputs": [
    {
     "data": {
      "text/html": [
       "<div>\n",
       "<style scoped>\n",
       "    .dataframe tbody tr th:only-of-type {\n",
       "        vertical-align: middle;\n",
       "    }\n",
       "\n",
       "    .dataframe tbody tr th {\n",
       "        vertical-align: top;\n",
       "    }\n",
       "\n",
       "    .dataframe thead th {\n",
       "        text-align: right;\n",
       "    }\n",
       "</style>\n",
       "<table border=\"1\" class=\"dataframe\">\n",
       "  <thead>\n",
       "    <tr style=\"text-align: right;\">\n",
       "      <th></th>\n",
       "      <th>Id</th>\n",
       "      <th>Annual Income</th>\n",
       "      <th>Tax Liens</th>\n",
       "      <th>Number of Open Accounts</th>\n",
       "      <th>Years of Credit History</th>\n",
       "      <th>Maximum Open Credit</th>\n",
       "      <th>Number of Credit Problems</th>\n",
       "      <th>Months since last delinquent</th>\n",
       "      <th>Bankruptcies</th>\n",
       "      <th>Current Loan Amount</th>\n",
       "      <th>Current Credit Balance</th>\n",
       "      <th>Monthly Debt</th>\n",
       "      <th>Credit Score</th>\n",
       "      <th>Credit Default</th>\n",
       "      <th>Home Ownership_Home Mortgage</th>\n",
       "      <th>Home Ownership_Own Home</th>\n",
       "      <th>Home Ownership_Rent</th>\n",
       "      <th>Years in current job_10+ years</th>\n",
       "      <th>Years in current job_2 years</th>\n",
       "      <th>Years in current job_3 years</th>\n",
       "      <th>Years in current job_4 years</th>\n",
       "      <th>Years in current job_5 years</th>\n",
       "      <th>Years in current job_6 years</th>\n",
       "      <th>Years in current job_7 years</th>\n",
       "      <th>Years in current job_8 years</th>\n",
       "      <th>Years in current job_9 years</th>\n",
       "      <th>Years in current job_less than 1 year</th>\n",
       "      <th>Purpose_buy a car</th>\n",
       "      <th>Purpose_buy house</th>\n",
       "      <th>Purpose_debt consolidation</th>\n",
       "      <th>Purpose_educational expenses</th>\n",
       "      <th>Purpose_home improvements</th>\n",
       "      <th>Purpose_major purchase</th>\n",
       "      <th>Purpose_medical bills</th>\n",
       "      <th>Purpose_moving</th>\n",
       "      <th>Purpose_other</th>\n",
       "      <th>Purpose_renewable energy</th>\n",
       "      <th>Purpose_small business</th>\n",
       "      <th>Purpose_take a trip</th>\n",
       "      <th>Purpose_vacation</th>\n",
       "      <th>Purpose_wedding</th>\n",
       "      <th>Term_Short Term</th>\n",
       "    </tr>\n",
       "  </thead>\n",
       "  <tbody>\n",
       "    <tr>\n",
       "      <th>0</th>\n",
       "      <td>7500.0</td>\n",
       "      <td>8.901389e+05</td>\n",
       "      <td>0.0</td>\n",
       "      <td>9.0</td>\n",
       "      <td>12.5</td>\n",
       "      <td>220968.0</td>\n",
       "      <td>0.0</td>\n",
       "      <td>70.0</td>\n",
       "      <td>0.0</td>\n",
       "      <td>162470.0</td>\n",
       "      <td>105906.0</td>\n",
       "      <td>6813.0</td>\n",
       "      <td>731.0</td>\n",
       "      <td>NaN</td>\n",
       "      <td>0</td>\n",
       "      <td>0</td>\n",
       "      <td>1</td>\n",
       "      <td>0</td>\n",
       "      <td>0</td>\n",
       "      <td>0</td>\n",
       "      <td>1</td>\n",
       "      <td>0</td>\n",
       "      <td>0</td>\n",
       "      <td>0</td>\n",
       "      <td>0</td>\n",
       "      <td>0</td>\n",
       "      <td>0</td>\n",
       "      <td>0</td>\n",
       "      <td>0</td>\n",
       "      <td>1</td>\n",
       "      <td>0</td>\n",
       "      <td>0</td>\n",
       "      <td>0</td>\n",
       "      <td>0</td>\n",
       "      <td>0</td>\n",
       "      <td>0</td>\n",
       "      <td>0</td>\n",
       "      <td>0</td>\n",
       "      <td>0</td>\n",
       "      <td>0</td>\n",
       "      <td>0</td>\n",
       "      <td>1</td>\n",
       "    </tr>\n",
       "    <tr>\n",
       "      <th>1</th>\n",
       "      <td>7501.0</td>\n",
       "      <td>2.318380e+05</td>\n",
       "      <td>0.0</td>\n",
       "      <td>6.0</td>\n",
       "      <td>32.7</td>\n",
       "      <td>55946.0</td>\n",
       "      <td>0.0</td>\n",
       "      <td>8.0</td>\n",
       "      <td>0.0</td>\n",
       "      <td>78298.0</td>\n",
       "      <td>46037.0</td>\n",
       "      <td>2318.0</td>\n",
       "      <td>699.0</td>\n",
       "      <td>NaN</td>\n",
       "      <td>0</td>\n",
       "      <td>0</td>\n",
       "      <td>1</td>\n",
       "      <td>0</td>\n",
       "      <td>0</td>\n",
       "      <td>0</td>\n",
       "      <td>0</td>\n",
       "      <td>0</td>\n",
       "      <td>0</td>\n",
       "      <td>0</td>\n",
       "      <td>0</td>\n",
       "      <td>0</td>\n",
       "      <td>0</td>\n",
       "      <td>0</td>\n",
       "      <td>0</td>\n",
       "      <td>0</td>\n",
       "      <td>1</td>\n",
       "      <td>0</td>\n",
       "      <td>0</td>\n",
       "      <td>0</td>\n",
       "      <td>0</td>\n",
       "      <td>0</td>\n",
       "      <td>0</td>\n",
       "      <td>0</td>\n",
       "      <td>0</td>\n",
       "      <td>0</td>\n",
       "      <td>0</td>\n",
       "      <td>1</td>\n",
       "    </tr>\n",
       "    <tr>\n",
       "      <th>2</th>\n",
       "      <td>7502.0</td>\n",
       "      <td>1.152540e+06</td>\n",
       "      <td>0.0</td>\n",
       "      <td>10.0</td>\n",
       "      <td>13.7</td>\n",
       "      <td>204600.0</td>\n",
       "      <td>0.0</td>\n",
       "      <td>0.0</td>\n",
       "      <td>0.0</td>\n",
       "      <td>200178.0</td>\n",
       "      <td>146490.0</td>\n",
       "      <td>18729.0</td>\n",
       "      <td>7260.0</td>\n",
       "      <td>NaN</td>\n",
       "      <td>1</td>\n",
       "      <td>0</td>\n",
       "      <td>0</td>\n",
       "      <td>0</td>\n",
       "      <td>0</td>\n",
       "      <td>1</td>\n",
       "      <td>0</td>\n",
       "      <td>0</td>\n",
       "      <td>0</td>\n",
       "      <td>0</td>\n",
       "      <td>0</td>\n",
       "      <td>0</td>\n",
       "      <td>0</td>\n",
       "      <td>0</td>\n",
       "      <td>0</td>\n",
       "      <td>1</td>\n",
       "      <td>0</td>\n",
       "      <td>0</td>\n",
       "      <td>0</td>\n",
       "      <td>0</td>\n",
       "      <td>0</td>\n",
       "      <td>0</td>\n",
       "      <td>0</td>\n",
       "      <td>0</td>\n",
       "      <td>0</td>\n",
       "      <td>0</td>\n",
       "      <td>0</td>\n",
       "      <td>1</td>\n",
       "    </tr>\n",
       "    <tr>\n",
       "      <th>3</th>\n",
       "      <td>7503.0</td>\n",
       "      <td>1.220313e+06</td>\n",
       "      <td>0.0</td>\n",
       "      <td>16.0</td>\n",
       "      <td>17.0</td>\n",
       "      <td>456302.0</td>\n",
       "      <td>0.0</td>\n",
       "      <td>70.0</td>\n",
       "      <td>0.0</td>\n",
       "      <td>217382.0</td>\n",
       "      <td>213199.0</td>\n",
       "      <td>27559.0</td>\n",
       "      <td>739.0</td>\n",
       "      <td>NaN</td>\n",
       "      <td>1</td>\n",
       "      <td>0</td>\n",
       "      <td>0</td>\n",
       "      <td>1</td>\n",
       "      <td>0</td>\n",
       "      <td>0</td>\n",
       "      <td>0</td>\n",
       "      <td>0</td>\n",
       "      <td>0</td>\n",
       "      <td>0</td>\n",
       "      <td>0</td>\n",
       "      <td>0</td>\n",
       "      <td>0</td>\n",
       "      <td>0</td>\n",
       "      <td>0</td>\n",
       "      <td>1</td>\n",
       "      <td>0</td>\n",
       "      <td>0</td>\n",
       "      <td>0</td>\n",
       "      <td>0</td>\n",
       "      <td>0</td>\n",
       "      <td>0</td>\n",
       "      <td>0</td>\n",
       "      <td>0</td>\n",
       "      <td>0</td>\n",
       "      <td>0</td>\n",
       "      <td>0</td>\n",
       "      <td>1</td>\n",
       "    </tr>\n",
       "    <tr>\n",
       "      <th>4</th>\n",
       "      <td>7504.0</td>\n",
       "      <td>2.340952e+06</td>\n",
       "      <td>0.0</td>\n",
       "      <td>11.0</td>\n",
       "      <td>23.6</td>\n",
       "      <td>1207272.0</td>\n",
       "      <td>0.0</td>\n",
       "      <td>0.0</td>\n",
       "      <td>0.0</td>\n",
       "      <td>777634.0</td>\n",
       "      <td>425391.0</td>\n",
       "      <td>42605.0</td>\n",
       "      <td>706.0</td>\n",
       "      <td>NaN</td>\n",
       "      <td>1</td>\n",
       "      <td>0</td>\n",
       "      <td>0</td>\n",
       "      <td>0</td>\n",
       "      <td>0</td>\n",
       "      <td>0</td>\n",
       "      <td>0</td>\n",
       "      <td>0</td>\n",
       "      <td>1</td>\n",
       "      <td>0</td>\n",
       "      <td>0</td>\n",
       "      <td>0</td>\n",
       "      <td>0</td>\n",
       "      <td>0</td>\n",
       "      <td>0</td>\n",
       "      <td>1</td>\n",
       "      <td>0</td>\n",
       "      <td>0</td>\n",
       "      <td>0</td>\n",
       "      <td>0</td>\n",
       "      <td>0</td>\n",
       "      <td>0</td>\n",
       "      <td>0</td>\n",
       "      <td>0</td>\n",
       "      <td>0</td>\n",
       "      <td>0</td>\n",
       "      <td>0</td>\n",
       "      <td>0</td>\n",
       "    </tr>\n",
       "  </tbody>\n",
       "</table>\n",
       "</div>"
      ],
      "text/plain": [
       "       Id  Annual Income  Tax Liens  Number of Open Accounts  \\\n",
       "0  7500.0   8.901389e+05        0.0                      9.0   \n",
       "1  7501.0   2.318380e+05        0.0                      6.0   \n",
       "2  7502.0   1.152540e+06        0.0                     10.0   \n",
       "3  7503.0   1.220313e+06        0.0                     16.0   \n",
       "4  7504.0   2.340952e+06        0.0                     11.0   \n",
       "\n",
       "   Years of Credit History  Maximum Open Credit  Number of Credit Problems  \\\n",
       "0                     12.5             220968.0                        0.0   \n",
       "1                     32.7              55946.0                        0.0   \n",
       "2                     13.7             204600.0                        0.0   \n",
       "3                     17.0             456302.0                        0.0   \n",
       "4                     23.6            1207272.0                        0.0   \n",
       "\n",
       "   Months since last delinquent  Bankruptcies  Current Loan Amount  \\\n",
       "0                          70.0           0.0             162470.0   \n",
       "1                           8.0           0.0              78298.0   \n",
       "2                           0.0           0.0             200178.0   \n",
       "3                          70.0           0.0             217382.0   \n",
       "4                           0.0           0.0             777634.0   \n",
       "\n",
       "   Current Credit Balance  Monthly Debt  Credit Score  Credit Default  \\\n",
       "0                105906.0        6813.0         731.0             NaN   \n",
       "1                 46037.0        2318.0         699.0             NaN   \n",
       "2                146490.0       18729.0        7260.0             NaN   \n",
       "3                213199.0       27559.0         739.0             NaN   \n",
       "4                425391.0       42605.0         706.0             NaN   \n",
       "\n",
       "   Home Ownership_Home Mortgage  Home Ownership_Own Home  Home Ownership_Rent  \\\n",
       "0                             0                        0                    1   \n",
       "1                             0                        0                    1   \n",
       "2                             1                        0                    0   \n",
       "3                             1                        0                    0   \n",
       "4                             1                        0                    0   \n",
       "\n",
       "   Years in current job_10+ years  Years in current job_2 years  \\\n",
       "0                               0                             0   \n",
       "1                               0                             0   \n",
       "2                               0                             0   \n",
       "3                               1                             0   \n",
       "4                               0                             0   \n",
       "\n",
       "   Years in current job_3 years  Years in current job_4 years  \\\n",
       "0                             0                             1   \n",
       "1                             0                             0   \n",
       "2                             1                             0   \n",
       "3                             0                             0   \n",
       "4                             0                             0   \n",
       "\n",
       "   Years in current job_5 years  Years in current job_6 years  \\\n",
       "0                             0                             0   \n",
       "1                             0                             0   \n",
       "2                             0                             0   \n",
       "3                             0                             0   \n",
       "4                             0                             1   \n",
       "\n",
       "   Years in current job_7 years  Years in current job_8 years  \\\n",
       "0                             0                             0   \n",
       "1                             0                             0   \n",
       "2                             0                             0   \n",
       "3                             0                             0   \n",
       "4                             0                             0   \n",
       "\n",
       "   Years in current job_9 years  Years in current job_less than 1 year  \\\n",
       "0                             0                                      0   \n",
       "1                             0                                      0   \n",
       "2                             0                                      0   \n",
       "3                             0                                      0   \n",
       "4                             0                                      0   \n",
       "\n",
       "   Purpose_buy a car  Purpose_buy house  Purpose_debt consolidation  \\\n",
       "0                  0                  0                           1   \n",
       "1                  0                  0                           0   \n",
       "2                  0                  0                           1   \n",
       "3                  0                  0                           1   \n",
       "4                  0                  0                           1   \n",
       "\n",
       "   Purpose_educational expenses  Purpose_home improvements  \\\n",
       "0                             0                          0   \n",
       "1                             1                          0   \n",
       "2                             0                          0   \n",
       "3                             0                          0   \n",
       "4                             0                          0   \n",
       "\n",
       "   Purpose_major purchase  Purpose_medical bills  Purpose_moving  \\\n",
       "0                       0                      0               0   \n",
       "1                       0                      0               0   \n",
       "2                       0                      0               0   \n",
       "3                       0                      0               0   \n",
       "4                       0                      0               0   \n",
       "\n",
       "   Purpose_other  Purpose_renewable energy  Purpose_small business  \\\n",
       "0              0                         0                       0   \n",
       "1              0                         0                       0   \n",
       "2              0                         0                       0   \n",
       "3              0                         0                       0   \n",
       "4              0                         0                       0   \n",
       "\n",
       "   Purpose_take a trip  Purpose_vacation  Purpose_wedding  Term_Short Term  \n",
       "0                    0                 0                0                1  \n",
       "1                    0                 0                0                1  \n",
       "2                    0                 0                0                1  \n",
       "3                    0                 0                0                1  \n",
       "4                    0                 0                0                0  "
      ]
     },
     "execution_count": 229,
     "metadata": {},
     "output_type": "execute_result"
    }
   ],
   "source": [
    "data_mod_test.head()"
   ]
  },
  {
   "cell_type": "code",
   "execution_count": 230,
   "metadata": {
    "scrolled": true
   },
   "outputs": [
    {
     "data": {
      "text/plain": [
       "(2500, 40)"
      ]
     },
     "execution_count": 230,
     "metadata": {},
     "output_type": "execute_result"
    }
   ],
   "source": [
    "x_test = data_mod_test.copy()\n",
    "x_test.drop(columns = ['Id', 'Credit Default'], inplace = True)\n",
    "x_test.shape"
   ]
  },
  {
   "cell_type": "code",
   "execution_count": 231,
   "metadata": {},
   "outputs": [
    {
     "name": "stdout",
     "output_type": "stream",
     "text": [
      "0:\tlearn: 0.6724253\ttotal: 5.23ms\tremaining: 465ms\n",
      "1:\tlearn: 0.6558385\ttotal: 10.2ms\tremaining: 450ms\n",
      "2:\tlearn: 0.6364288\ttotal: 15.7ms\tremaining: 455ms\n",
      "3:\tlearn: 0.6228092\ttotal: 22.2ms\tremaining: 477ms\n",
      "4:\tlearn: 0.6078719\ttotal: 27ms\tremaining: 459ms\n",
      "5:\tlearn: 0.5919884\ttotal: 36.1ms\tremaining: 505ms\n",
      "6:\tlearn: 0.5787276\ttotal: 43.3ms\tremaining: 514ms\n",
      "7:\tlearn: 0.5699730\ttotal: 49.2ms\tremaining: 504ms\n",
      "8:\tlearn: 0.5627242\ttotal: 54.3ms\tremaining: 489ms\n",
      "9:\tlearn: 0.5567637\ttotal: 58.3ms\tremaining: 467ms\n",
      "10:\tlearn: 0.5482807\ttotal: 62.4ms\tremaining: 448ms\n",
      "11:\tlearn: 0.5400454\ttotal: 66.9ms\tremaining: 435ms\n",
      "12:\tlearn: 0.5349677\ttotal: 71.1ms\tremaining: 421ms\n",
      "13:\tlearn: 0.5276649\ttotal: 75.1ms\tremaining: 408ms\n",
      "14:\tlearn: 0.5235935\ttotal: 79.4ms\tremaining: 397ms\n",
      "15:\tlearn: 0.5199416\ttotal: 83.9ms\tremaining: 388ms\n",
      "16:\tlearn: 0.5163054\ttotal: 88.2ms\tremaining: 379ms\n",
      "17:\tlearn: 0.5137092\ttotal: 92.5ms\tremaining: 370ms\n",
      "18:\tlearn: 0.5109322\ttotal: 96.6ms\tremaining: 361ms\n",
      "19:\tlearn: 0.5081952\ttotal: 101ms\tremaining: 353ms\n",
      "20:\tlearn: 0.5045414\ttotal: 105ms\tremaining: 345ms\n",
      "21:\tlearn: 0.5024949\ttotal: 109ms\tremaining: 338ms\n",
      "22:\tlearn: 0.5003593\ttotal: 114ms\tremaining: 331ms\n",
      "23:\tlearn: 0.4987956\ttotal: 118ms\tremaining: 324ms\n",
      "24:\tlearn: 0.4975958\ttotal: 122ms\tremaining: 318ms\n",
      "25:\tlearn: 0.4960609\ttotal: 127ms\tremaining: 312ms\n",
      "26:\tlearn: 0.4940119\ttotal: 131ms\tremaining: 305ms\n",
      "27:\tlearn: 0.4914125\ttotal: 135ms\tremaining: 299ms\n",
      "28:\tlearn: 0.4896422\ttotal: 139ms\tremaining: 293ms\n",
      "29:\tlearn: 0.4882280\ttotal: 144ms\tremaining: 287ms\n",
      "30:\tlearn: 0.4870061\ttotal: 148ms\tremaining: 282ms\n",
      "31:\tlearn: 0.4857331\ttotal: 152ms\tremaining: 276ms\n",
      "32:\tlearn: 0.4848203\ttotal: 157ms\tremaining: 271ms\n",
      "33:\tlearn: 0.4820303\ttotal: 161ms\tremaining: 265ms\n",
      "34:\tlearn: 0.4809414\ttotal: 166ms\tremaining: 260ms\n",
      "35:\tlearn: 0.4797508\ttotal: 170ms\tremaining: 255ms\n",
      "36:\tlearn: 0.4788145\ttotal: 175ms\tremaining: 251ms\n",
      "37:\tlearn: 0.4775589\ttotal: 180ms\tremaining: 247ms\n",
      "38:\tlearn: 0.4758535\ttotal: 186ms\tremaining: 243ms\n",
      "39:\tlearn: 0.4746824\ttotal: 190ms\tremaining: 238ms\n",
      "40:\tlearn: 0.4744253\ttotal: 193ms\tremaining: 231ms\n",
      "41:\tlearn: 0.4737651\ttotal: 197ms\tremaining: 225ms\n",
      "42:\tlearn: 0.4727756\ttotal: 201ms\tremaining: 220ms\n",
      "43:\tlearn: 0.4714911\ttotal: 206ms\tremaining: 215ms\n",
      "44:\tlearn: 0.4706997\ttotal: 211ms\tremaining: 211ms\n",
      "45:\tlearn: 0.4696294\ttotal: 220ms\tremaining: 210ms\n",
      "46:\tlearn: 0.4688275\ttotal: 227ms\tremaining: 208ms\n",
      "47:\tlearn: 0.4682935\ttotal: 233ms\tremaining: 204ms\n",
      "48:\tlearn: 0.4676406\ttotal: 238ms\tremaining: 199ms\n",
      "49:\tlearn: 0.4671714\ttotal: 243ms\tremaining: 194ms\n",
      "50:\tlearn: 0.4662787\ttotal: 248ms\tremaining: 189ms\n",
      "51:\tlearn: 0.4655627\ttotal: 252ms\tremaining: 184ms\n",
      "52:\tlearn: 0.4652293\ttotal: 256ms\tremaining: 179ms\n",
      "53:\tlearn: 0.4644797\ttotal: 260ms\tremaining: 174ms\n",
      "54:\tlearn: 0.4640755\ttotal: 265ms\tremaining: 168ms\n",
      "55:\tlearn: 0.4633391\ttotal: 269ms\tremaining: 163ms\n",
      "56:\tlearn: 0.4621945\ttotal: 273ms\tremaining: 158ms\n",
      "57:\tlearn: 0.4616463\ttotal: 278ms\tremaining: 153ms\n",
      "58:\tlearn: 0.4610321\ttotal: 282ms\tremaining: 148ms\n",
      "59:\tlearn: 0.4605084\ttotal: 287ms\tremaining: 144ms\n",
      "60:\tlearn: 0.4599502\ttotal: 292ms\tremaining: 139ms\n",
      "61:\tlearn: 0.4594140\ttotal: 298ms\tremaining: 135ms\n",
      "62:\tlearn: 0.4588096\ttotal: 302ms\tremaining: 130ms\n",
      "63:\tlearn: 0.4581266\ttotal: 311ms\tremaining: 126ms\n",
      "64:\tlearn: 0.4575579\ttotal: 319ms\tremaining: 123ms\n",
      "65:\tlearn: 0.4569409\ttotal: 325ms\tremaining: 118ms\n",
      "66:\tlearn: 0.4560847\ttotal: 330ms\tremaining: 113ms\n",
      "67:\tlearn: 0.4556775\ttotal: 335ms\tremaining: 108ms\n",
      "68:\tlearn: 0.4551219\ttotal: 340ms\tremaining: 103ms\n",
      "69:\tlearn: 0.4546133\ttotal: 344ms\tremaining: 98.2ms\n",
      "70:\tlearn: 0.4539793\ttotal: 348ms\tremaining: 93.1ms\n",
      "71:\tlearn: 0.4535334\ttotal: 352ms\tremaining: 88ms\n",
      "72:\tlearn: 0.4530032\ttotal: 357ms\tremaining: 83ms\n",
      "73:\tlearn: 0.4526989\ttotal: 361ms\tremaining: 78.1ms\n",
      "74:\tlearn: 0.4523460\ttotal: 368ms\tremaining: 73.6ms\n",
      "75:\tlearn: 0.4513480\ttotal: 373ms\tremaining: 68.7ms\n",
      "76:\tlearn: 0.4508975\ttotal: 378ms\tremaining: 63.9ms\n",
      "77:\tlearn: 0.4503563\ttotal: 384ms\tremaining: 59ms\n",
      "78:\tlearn: 0.4497642\ttotal: 388ms\tremaining: 54ms\n",
      "79:\tlearn: 0.4492945\ttotal: 392ms\tremaining: 49ms\n",
      "80:\tlearn: 0.4489654\ttotal: 396ms\tremaining: 44.1ms\n",
      "81:\tlearn: 0.4484277\ttotal: 401ms\tremaining: 39.1ms\n",
      "82:\tlearn: 0.4480829\ttotal: 406ms\tremaining: 34.2ms\n",
      "83:\tlearn: 0.4478993\ttotal: 410ms\tremaining: 29.3ms\n",
      "84:\tlearn: 0.4472503\ttotal: 414ms\tremaining: 24.4ms\n",
      "85:\tlearn: 0.4467170\ttotal: 419ms\tremaining: 19.5ms\n",
      "86:\tlearn: 0.4461744\ttotal: 423ms\tremaining: 14.6ms\n",
      "87:\tlearn: 0.4456488\ttotal: 427ms\tremaining: 9.71ms\n",
      "88:\tlearn: 0.4453174\ttotal: 431ms\tremaining: 4.85ms\n",
      "89:\tlearn: 0.4448332\ttotal: 436ms\tremaining: 0us\n"
     ]
    },
    {
     "data": {
      "text/html": [
       "<div>\n",
       "<style scoped>\n",
       "    .dataframe tbody tr th:only-of-type {\n",
       "        vertical-align: middle;\n",
       "    }\n",
       "\n",
       "    .dataframe tbody tr th {\n",
       "        vertical-align: top;\n",
       "    }\n",
       "\n",
       "    .dataframe thead th {\n",
       "        text-align: right;\n",
       "    }\n",
       "</style>\n",
       "<table border=\"1\" class=\"dataframe\">\n",
       "  <thead>\n",
       "    <tr style=\"text-align: right;\">\n",
       "      <th></th>\n",
       "      <th>Credit Default</th>\n",
       "    </tr>\n",
       "  </thead>\n",
       "  <tbody>\n",
       "    <tr>\n",
       "      <th>0</th>\n",
       "      <td>1</td>\n",
       "    </tr>\n",
       "    <tr>\n",
       "      <th>1</th>\n",
       "      <td>1</td>\n",
       "    </tr>\n",
       "    <tr>\n",
       "      <th>2</th>\n",
       "      <td>1</td>\n",
       "    </tr>\n",
       "    <tr>\n",
       "      <th>3</th>\n",
       "      <td>0</td>\n",
       "    </tr>\n",
       "    <tr>\n",
       "      <th>4</th>\n",
       "      <td>1</td>\n",
       "    </tr>\n",
       "  </tbody>\n",
       "</table>\n",
       "</div>"
      ],
      "text/plain": [
       "   Credit Default\n",
       "0               1\n",
       "1               1\n",
       "2               1\n",
       "3               0\n",
       "4               1"
      ]
     },
     "execution_count": 231,
     "metadata": {},
     "output_type": "execute_result"
    }
   ],
   "source": [
    "classifier_CBC.fit(x,y)\n",
    "y_test = ((classifier_CBC.predict_proba(x_test)[:,1])>= threshold).astype(int)\n",
    "y_test = pd.DataFrame(y_test, columns = ['Credit Default'])\n",
    "y_test.head()"
   ]
  },
  {
   "cell_type": "code",
   "execution_count": 232,
   "metadata": {},
   "outputs": [
    {
     "data": {
      "text/plain": [
       "(2500, 1)"
      ]
     },
     "execution_count": 232,
     "metadata": {},
     "output_type": "execute_result"
    }
   ],
   "source": [
    "y_test.shape"
   ]
  },
  {
   "cell_type": "code",
   "execution_count": 233,
   "metadata": {},
   "outputs": [
    {
     "data": {
      "text/plain": [
       "(2500, 1)"
      ]
     },
     "execution_count": 233,
     "metadata": {},
     "output_type": "execute_result"
    }
   ],
   "source": [
    "ID = data_mod_test.loc[:,['Id']]\n",
    "ID['Id'] = ID['Id'].astype('int32')\n",
    "\n",
    "ID.shape"
   ]
  },
  {
   "cell_type": "code",
   "execution_count": 234,
   "metadata": {},
   "outputs": [
    {
     "data": {
      "text/html": [
       "<div>\n",
       "<style scoped>\n",
       "    .dataframe tbody tr th:only-of-type {\n",
       "        vertical-align: middle;\n",
       "    }\n",
       "\n",
       "    .dataframe tbody tr th {\n",
       "        vertical-align: top;\n",
       "    }\n",
       "\n",
       "    .dataframe thead th {\n",
       "        text-align: right;\n",
       "    }\n",
       "</style>\n",
       "<table border=\"1\" class=\"dataframe\">\n",
       "  <thead>\n",
       "    <tr style=\"text-align: right;\">\n",
       "      <th></th>\n",
       "      <th>Id</th>\n",
       "      <th>Credit Default</th>\n",
       "    </tr>\n",
       "  </thead>\n",
       "  <tbody>\n",
       "    <tr>\n",
       "      <th>0</th>\n",
       "      <td>7500</td>\n",
       "      <td>1</td>\n",
       "    </tr>\n",
       "    <tr>\n",
       "      <th>1</th>\n",
       "      <td>7501</td>\n",
       "      <td>1</td>\n",
       "    </tr>\n",
       "    <tr>\n",
       "      <th>2</th>\n",
       "      <td>7502</td>\n",
       "      <td>1</td>\n",
       "    </tr>\n",
       "    <tr>\n",
       "      <th>3</th>\n",
       "      <td>7503</td>\n",
       "      <td>0</td>\n",
       "    </tr>\n",
       "    <tr>\n",
       "      <th>4</th>\n",
       "      <td>7504</td>\n",
       "      <td>1</td>\n",
       "    </tr>\n",
       "    <tr>\n",
       "      <th>5</th>\n",
       "      <td>7505</td>\n",
       "      <td>0</td>\n",
       "    </tr>\n",
       "    <tr>\n",
       "      <th>6</th>\n",
       "      <td>7506</td>\n",
       "      <td>0</td>\n",
       "    </tr>\n",
       "    <tr>\n",
       "      <th>7</th>\n",
       "      <td>7507</td>\n",
       "      <td>1</td>\n",
       "    </tr>\n",
       "    <tr>\n",
       "      <th>8</th>\n",
       "      <td>7508</td>\n",
       "      <td>1</td>\n",
       "    </tr>\n",
       "    <tr>\n",
       "      <th>9</th>\n",
       "      <td>7509</td>\n",
       "      <td>0</td>\n",
       "    </tr>\n",
       "    <tr>\n",
       "      <th>10</th>\n",
       "      <td>7510</td>\n",
       "      <td>0</td>\n",
       "    </tr>\n",
       "    <tr>\n",
       "      <th>11</th>\n",
       "      <td>7511</td>\n",
       "      <td>1</td>\n",
       "    </tr>\n",
       "    <tr>\n",
       "      <th>12</th>\n",
       "      <td>7512</td>\n",
       "      <td>1</td>\n",
       "    </tr>\n",
       "    <tr>\n",
       "      <th>13</th>\n",
       "      <td>7513</td>\n",
       "      <td>1</td>\n",
       "    </tr>\n",
       "    <tr>\n",
       "      <th>14</th>\n",
       "      <td>7514</td>\n",
       "      <td>1</td>\n",
       "    </tr>\n",
       "    <tr>\n",
       "      <th>15</th>\n",
       "      <td>7515</td>\n",
       "      <td>1</td>\n",
       "    </tr>\n",
       "    <tr>\n",
       "      <th>16</th>\n",
       "      <td>7516</td>\n",
       "      <td>1</td>\n",
       "    </tr>\n",
       "    <tr>\n",
       "      <th>17</th>\n",
       "      <td>7517</td>\n",
       "      <td>0</td>\n",
       "    </tr>\n",
       "    <tr>\n",
       "      <th>18</th>\n",
       "      <td>7518</td>\n",
       "      <td>0</td>\n",
       "    </tr>\n",
       "    <tr>\n",
       "      <th>19</th>\n",
       "      <td>7519</td>\n",
       "      <td>1</td>\n",
       "    </tr>\n",
       "  </tbody>\n",
       "</table>\n",
       "</div>"
      ],
      "text/plain": [
       "      Id  Credit Default\n",
       "0   7500               1\n",
       "1   7501               1\n",
       "2   7502               1\n",
       "3   7503               0\n",
       "4   7504               1\n",
       "5   7505               0\n",
       "6   7506               0\n",
       "7   7507               1\n",
       "8   7508               1\n",
       "9   7509               0\n",
       "10  7510               0\n",
       "11  7511               1\n",
       "12  7512               1\n",
       "13  7513               1\n",
       "14  7514               1\n",
       "15  7515               1\n",
       "16  7516               1\n",
       "17  7517               0\n",
       "18  7518               0\n",
       "19  7519               1"
      ]
     },
     "execution_count": 234,
     "metadata": {},
     "output_type": "execute_result"
    }
   ],
   "source": [
    "df = pd.concat([ID, y_test], axis = 1)\n",
    "df = df[['Id','Credit Default']]\n",
    "df.head(20)"
   ]
  },
  {
   "cell_type": "code",
   "execution_count": 235,
   "metadata": {},
   "outputs": [
    {
     "data": {
      "text/plain": [
       "1054"
      ]
     },
     "execution_count": 235,
     "metadata": {},
     "output_type": "execute_result"
    }
   ],
   "source": [
    "df['Credit Default'].sum()"
   ]
  },
  {
   "cell_type": "code",
   "execution_count": 187,
   "metadata": {},
   "outputs": [],
   "source": [
    "df.to_csv(\"Result_CBC.csv\", index = False)"
   ]
  },
  {
   "cell_type": "code",
   "execution_count": null,
   "metadata": {},
   "outputs": [],
   "source": []
  }
 ],
 "metadata": {
  "kernelspec": {
   "display_name": "Python 3",
   "language": "python",
   "name": "python3"
  },
  "language_info": {
   "codemirror_mode": {
    "name": "ipython",
    "version": 3
   },
   "file_extension": ".py",
   "mimetype": "text/x-python",
   "name": "python",
   "nbconvert_exporter": "python",
   "pygments_lexer": "ipython3",
   "version": "3.8.3"
  }
 },
 "nbformat": 4,
 "nbformat_minor": 4
}
